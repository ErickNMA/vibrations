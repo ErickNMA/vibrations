{
 "cells": [
  {
   "attachments": {},
   "cell_type": "markdown",
   "metadata": {},
   "source": [
    "<h1 align='center'> Análise Modal de um Modelo Quarter-Car </h1>"
   ]
  },
  {
   "cell_type": "code",
   "execution_count": 1,
   "metadata": {},
   "outputs": [],
   "source": [
    "#Importando bibliotecas:\n",
    "import numpy as np\n",
    "from sympy import *\n",
    "from sympy.integrals.heurisch import heurisch\n",
    "import warnings\n",
    "import matplotlib.pyplot as plt\n",
    "import scienceplots\n",
    "\n",
    "# Configurações de plot:\n",
    "plt.style.use([\n",
    "    'grid',\n",
    "    'retro'\n",
    "])\n",
    "\n",
    "title = False \n",
    "\n",
    "#Exibição dos gráficos em no notebook:\n",
    "%matplotlib inline\n",
    "\n",
    "'''\n",
    "#Exibição dos gráficos em janela externa:\n",
    "%matplotlib qt\n",
    "'''\n",
    "\n",
    "# Inicializações importantes:\n",
    "warnings.filterwarnings(\"ignore\")\n",
    "init_printing()\n",
    "\n",
    "# Função de arredondar elemento da matriz:\n",
    "def arredNUM(matrix):\n",
    "    for a in preorder_traversal(matrix):\n",
    "        if isinstance(a, Float):\n",
    "            matrix = matrix.subs(a, round(a, 4))\n",
    "    return matrix"
   ]
  },
  {
   "attachments": {},
   "cell_type": "markdown",
   "metadata": {},
   "source": [
    "<div align=\"center\">\n",
    "    <img src=\"images/qcmodel.png\">\n",
    "</div>\n",
    "\n",
    "<h5 align='right'> (Jazar, 2017) - 3rd ed </h5>"
   ]
  },
  {
   "attachments": {},
   "cell_type": "markdown",
   "metadata": {},
   "source": [
    "$$[M]\\ddot{[X]} + [C]\\dot{[X]} + [K][X] = [F]$$\n",
    "\n",
    "<h5 align='right'> Jazar - Eq. (11.46) </h5>"
   ]
  },
  {
   "attachments": {},
   "cell_type": "markdown",
   "metadata": {},
   "source": [
    "### Parâmetros do sistema:"
   ]
  },
  {
   "cell_type": "code",
   "execution_count": 2,
   "metadata": {},
   "outputs": [],
   "source": [
    "# Unidades no S.I [Kg, N/m, (N*s)/m]:\n",
    "# GDL não suspenso:\n",
    "mu = 75\n",
    "ku = 193000\n",
    "\n",
    "# GDL suspenso:\n",
    "ms = 375\n",
    "ks = 35000\n",
    "cs = 1800"
   ]
  },
  {
   "attachments": {},
   "cell_type": "markdown",
   "metadata": {},
   "source": [
    "### Excitação externa por perfil de pista:"
   ]
  },
  {
   "attachments": {},
   "cell_type": "markdown",
   "metadata": {},
   "source": [
    "##### Entrada Harmônica:"
   ]
  },
  {
   "cell_type": "code",
   "execution_count": 3,
   "metadata": {},
   "outputs": [],
   "source": [
    "# Tempo de amostragem:\n",
    "ts = 1e-2\n",
    "\n",
    "# Tempo de simulação:\n",
    "tf = 3\n",
    "\n",
    "# Vetor de tempo:\n",
    "time = np.arange(0, 500, ts)"
   ]
  },
  {
   "attachments": {},
   "cell_type": "markdown",
   "metadata": {},
   "source": [
    "### Definição das matrizes (Lagrange) e condições iniciais:"
   ]
  },
  {
   "cell_type": "code",
   "execution_count": 4,
   "metadata": {},
   "outputs": [],
   "source": [
    "# Fator de correção para cálculos:\n",
    "fc = 1e0\n",
    "\n",
    "# Matriz das massas (Kg):\n",
    "M = np.array([\n",
    "    [mu, 0,],\n",
    "    [0, ms]\n",
    "], dtype=float)*fc\n",
    "\n",
    "# Matriz de rigidez (N/m):\n",
    "K = np.array([\n",
    "    [(ks+ku), -ks],\n",
    "    [-ks, ks]\n",
    "], dtype=float)*fc\n",
    "\n",
    "# Matriz de amortecimento (N*s/m):\n",
    "C = np.array([\n",
    "    [cs, -cs],\n",
    "    [-cs, cs]\n",
    "], dtype=float)*fc\n",
    "\n",
    "# Matriz de F(x) (transposta):\n",
    "F = np.array([0, 0]).T*fc\n",
    "\n",
    "# Matriz de posições iniciais (transposta):\n",
    "X0 = np.array([0.2, 0.1], dtype=float).T\n",
    "\n",
    "# Matriz de velocidades iniciais (transposta):\n",
    "V0 = np.array([0, 0], dtype=float).T"
   ]
  },
  {
   "attachments": {},
   "cell_type": "markdown",
   "metadata": {},
   "source": [
    "### $$\\text{Obtenção de } [M]^{-1/2}:$$"
   ]
  },
  {
   "cell_type": "code",
   "execution_count": 5,
   "metadata": {},
   "outputs": [
    {
     "data": {
      "text/latex": [
       "$\\displaystyle \\left[\\begin{matrix}0.1155 & 0\\\\0 & 0.0516\\end{matrix}\\right]$"
      ],
      "text/plain": [
       "⎡0.1155    0   ⎤\n",
       "⎢              ⎥\n",
       "⎣  0     0.0516⎦"
      ]
     },
     "execution_count": 5,
     "metadata": {},
     "output_type": "execute_result"
    }
   ],
   "source": [
    "MM = np.power(M, -1/2)  # Inverso da raíz quadrada\n",
    "\n",
    "MM[MM == np.inf] = 0  # Transforma os elementos infinitos em zero\n",
    "\n",
    "Matrix(MM.round(4))"
   ]
  },
  {
   "attachments": {},
   "cell_type": "markdown",
   "metadata": {},
   "source": [
    "### $$ \\text{Cálculo da matriz } \\tilde{[K]} = [M^{-1/2}][K][M^{-1/2}]:$$"
   ]
  },
  {
   "cell_type": "code",
   "execution_count": 6,
   "metadata": {},
   "outputs": [
    {
     "data": {
      "text/latex": [
       "$\\displaystyle \\left[\\begin{matrix}3040.0 & -208.6997\\\\-208.6997 & 93.3333\\end{matrix}\\right]$"
      ],
      "text/plain": [
       "⎡ 3040.0    -208.6997⎤\n",
       "⎢                    ⎥\n",
       "⎣-208.6997   93.3333 ⎦"
      ]
     },
     "execution_count": 6,
     "metadata": {},
     "output_type": "execute_result"
    }
   ],
   "source": [
    "K_til = MM@K@MM  # Cálculo da matriz K_til\n",
    "\n",
    "Matrix(K_til.round(4))"
   ]
  },
  {
   "attachments": {},
   "cell_type": "markdown",
   "metadata": {},
   "source": [
    "### $$ \\text{Cálculo da matriz } \\tilde{[C]} = [M^{-1/2}][C][M^{-1/2}]:$$"
   ]
  },
  {
   "cell_type": "code",
   "execution_count": 7,
   "metadata": {},
   "outputs": [
    {
     "data": {
      "text/latex": [
       "$\\displaystyle \\left[\\begin{matrix}24.0 & -10.7331\\\\-10.7331 & 4.8\\end{matrix}\\right]$"
      ],
      "text/plain": [
       "⎡  24.0    -10.7331⎤\n",
       "⎢                  ⎥\n",
       "⎣-10.7331    4.8   ⎦"
      ]
     },
     "execution_count": 7,
     "metadata": {},
     "output_type": "execute_result"
    }
   ],
   "source": [
    "try:\n",
    "    C_til = MM@C@MM  # Cálculo da matriz C_til\n",
    "except:\n",
    "    C_til = np.zeros((len(M), len(M)))\n",
    "\n",
    "Matrix(C_til.round(4))"
   ]
  },
  {
   "attachments": {},
   "cell_type": "markdown",
   "metadata": {},
   "source": [
    "### $$\\text{Obtendo os autovalores (} \\lambda \\text{) e autovetores normalizados (} P \\text{) de }\\tilde{[K]}:$$"
   ]
  },
  {
   "cell_type": "code",
   "execution_count": 8,
   "metadata": {},
   "outputs": [],
   "source": [
    "# Obtenção dos autovalores e autovetores normalizados\n",
    "lamb, P = np.linalg.eig(K_til)"
   ]
  },
  {
   "attachments": {},
   "cell_type": "markdown",
   "metadata": {},
   "source": [
    "##### $$\\text{Matriz de autovalores }[\\lambda]:$$"
   ]
  },
  {
   "cell_type": "code",
   "execution_count": 9,
   "metadata": {},
   "outputs": [
    {
     "data": {
      "text/latex": [
       "$\\displaystyle \\left[\\begin{matrix}3054.7079\\\\78.6254\\end{matrix}\\right]$"
      ],
      "text/plain": [
       "⎡3054.7079⎤\n",
       "⎢         ⎥\n",
       "⎣ 78.6254 ⎦"
      ]
     },
     "execution_count": 9,
     "metadata": {},
     "output_type": "execute_result"
    }
   ],
   "source": [
    "Matrix(lamb.round(4))"
   ]
  },
  {
   "attachments": {},
   "cell_type": "markdown",
   "metadata": {},
   "source": [
    "##### $$\\text{Matriz de autovetores normalizados }[P]:$$"
   ]
  },
  {
   "cell_type": "code",
   "execution_count": 10,
   "metadata": {},
   "outputs": [
    {
     "data": {
      "text/latex": [
       "$\\displaystyle \\left[\\begin{matrix}0.9975 & 0.0703\\\\-0.0703 & 0.9975\\end{matrix}\\right]$"
      ],
      "text/plain": [
       "⎡0.9975   0.0703⎤\n",
       "⎢               ⎥\n",
       "⎣-0.0703  0.9975⎦"
      ]
     },
     "execution_count": 10,
     "metadata": {},
     "output_type": "execute_result"
    }
   ],
   "source": [
    "Matrix(P.round(4))"
   ]
  },
  {
   "attachments": {},
   "cell_type": "markdown",
   "metadata": {},
   "source": [
    "### Cálculo das frequências naturais: $$[\\omega_n] = \\left[ \\sqrt{\\lambda} \\right]$$"
   ]
  },
  {
   "cell_type": "code",
   "execution_count": 11,
   "metadata": {},
   "outputs": [
    {
     "data": {
      "text/latex": [
       "$\\displaystyle \\left[\\begin{matrix}55.2694\\\\8.8671\\end{matrix}\\right]$"
      ],
      "text/plain": [
       "⎡55.2694⎤\n",
       "⎢       ⎥\n",
       "⎣8.8671 ⎦"
      ]
     },
     "execution_count": 11,
     "metadata": {},
     "output_type": "execute_result"
    }
   ],
   "source": [
    "omega_n = np.sqrt(lamb)  # Calcula a matriz de freqências naturais, em rad/s\n",
    "\n",
    "Matrix(omega_n.round(4))"
   ]
  },
  {
   "attachments": {},
   "cell_type": "markdown",
   "metadata": {},
   "source": [
    "### Mode Shapes: $$[u_i] = [M^{-1/2}][P_i]$$"
   ]
  },
  {
   "cell_type": "code",
   "execution_count": 12,
   "metadata": {},
   "outputs": [
    {
     "data": {
      "text/latex": [
       "$\\displaystyle \\left[\\begin{matrix}0.1152 & 0.0081\\\\-0.0036 & 0.0515\\end{matrix}\\right]$"
      ],
      "text/plain": [
       "⎡0.1152   0.0081⎤\n",
       "⎢               ⎥\n",
       "⎣-0.0036  0.0515⎦"
      ]
     },
     "execution_count": 12,
     "metadata": {},
     "output_type": "execute_result"
    }
   ],
   "source": [
    "U = (MM@P)  # Modos de vibrar: cada linha é um GDL e cada coluna representa um modo de vibrar\n",
    "\n",
    "Matrix(U.round(4))"
   ]
  },
  {
   "cell_type": "code",
   "execution_count": 13,
   "metadata": {},
   "outputs": [
    {
     "data": {
      "image/png": "[encoded data removed]",
      "text/plain": [
       "<Figure size 1200x1000 with 1 Axes>"
      ]
     },
     "metadata": {},
     "output_type": "display_data"
    }
   ],
   "source": [
    "horizontal = False # Define o sentido de variação dos GDL's\n",
    "\n",
    "# Plotando os gráficos:\n",
    "plt.rcParams['figure.figsize'] = (12, 10)\n",
    "plt.figure(0)\n",
    "\n",
    "space = (np.max(np.abs(U))*2.5)\n",
    "\n",
    "padding = []\n",
    "for i in range(len(U)+1):\n",
    "    padding.append(space*i)\n",
    "\n",
    "vib = []\n",
    "for i in range(len(U)):\n",
    "    vib.append([(space*(i+1))])\n",
    "\n",
    "for i in range(len(vib)):\n",
    "    vib[i] = np.concatenate((vib[i], (vib[i][0]+U.T[i])))\n",
    "\n",
    "if(horizontal):\n",
    "    for i in range(len(U)):\n",
    "        plt.plot(vib[i], padding, 'k')\n",
    "        plt.plot((vib[i][0], vib[i][0]), (0, (space*len(U))), 'gray', linestyle='dashed')\n",
    "    plt.xticks(padding[1:], range(1, len(U)+1))\n",
    "    labels = []\n",
    "    for i in range(1, len(U)+1):\n",
    "        labels.append(f'$y_{i}$')\n",
    "    plt.yticks(padding[1:], labels)\n",
    "else:\n",
    "    for i in range(len(U)):\n",
    "        plt.plot(padding, vib[i], 'k')\n",
    "        plt.plot((0, (space*len(U))), (vib[i][0], vib[i][0]), 'gray', linestyle='dashed')\n",
    "    plt.yticks(padding[1:], range(1, len(U)+1))\n",
    "    labels = ['$y_u$', '$y_s$']\n",
    "    plt.xticks(padding[1:], labels)\n",
    "\n",
    "if(title):\n",
    "    plt.title('Mode Shapes')\n",
    "plt.grid()\n",
    "plt.savefig('curves/mode_shapes.eps', dpi=600, transparent=True, bbox_inches='tight')"
   ]
  },
  {
   "attachments": {},
   "cell_type": "markdown",
   "metadata": {},
   "source": [
    "### $$\\text{Cálculo da matriz } [S] = [M^{-1/2}][P]$$"
   ]
  },
  {
   "cell_type": "code",
   "execution_count": 14,
   "metadata": {},
   "outputs": [
    {
     "data": {
      "text/latex": [
       "$\\displaystyle \\left[\\begin{matrix}0.1152 & 0.0081\\\\-0.0036 & 0.0515\\end{matrix}\\right]$"
      ],
      "text/plain": [
       "⎡0.1152   0.0081⎤\n",
       "⎢               ⎥\n",
       "⎣-0.0036  0.0515⎦"
      ]
     },
     "execution_count": 14,
     "metadata": {},
     "output_type": "execute_result"
    }
   ],
   "source": [
    "S = MM@P  # Cálcula a matriz S\n",
    "\n",
    "Matrix(S.round(4))"
   ]
  },
  {
   "attachments": {},
   "cell_type": "markdown",
   "metadata": {},
   "source": [
    "### $$\\text{Cálculo da matriz } [\\Lambda] = [P^T][\\tilde{K}][P]$$"
   ]
  },
  {
   "cell_type": "code",
   "execution_count": 15,
   "metadata": {},
   "outputs": [
    {
     "data": {
      "text/latex": [
       "$\\displaystyle \\left[\\begin{matrix}3054.7079 & 0\\\\0 & 78.6254\\end{matrix}\\right]$"
      ],
      "text/plain": [
       "⎡3054.7079     0   ⎤\n",
       "⎢                  ⎥\n",
       "⎣    0      78.6254⎦"
      ]
     },
     "execution_count": 15,
     "metadata": {},
     "output_type": "execute_result"
    }
   ],
   "source": [
    "# Calcula a matriz LAMBDA, que deve ser igual à matriz diagonal contendo os autovalores\n",
    "LAMB = P.T@K_til@P\n",
    "\n",
    "Matrix(LAMB.round(4))"
   ]
  },
  {
   "attachments": {},
   "cell_type": "markdown",
   "metadata": {},
   "source": [
    "### $$\\text{Cálculo da matriz } [\\Gamma] = [P^T][\\tilde{C}][P]$$"
   ]
  },
  {
   "cell_type": "code",
   "execution_count": 16,
   "metadata": {},
   "outputs": [
    {
     "data": {
      "text/latex": [
       "$\\displaystyle \\left[\\begin{matrix}25.4104 & -9.2806\\\\-9.2806 & 3.3896\\end{matrix}\\right]$"
      ],
      "text/plain": [
       "⎡25.4104  -9.2806⎤\n",
       "⎢                ⎥\n",
       "⎣-9.2806  3.3896 ⎦"
      ]
     },
     "execution_count": 16,
     "metadata": {},
     "output_type": "execute_result"
    }
   ],
   "source": [
    "GAM = P.T@C_til@P  # Calcula a matriz GAMMA, que deve ser igual à matriz diagonal contendo os coeficientes de amortecimento em r -> 2*zeta*omega\n",
    "\n",
    "Matrix(GAM.round(4))"
   ]
  },
  {
   "attachments": {},
   "cell_type": "markdown",
   "metadata": {},
   "source": [
    "### $$\\text{Determinando os coeficientes de amortecimento } \\zeta_i:$$"
   ]
  },
  {
   "cell_type": "code",
   "execution_count": 17,
   "metadata": {},
   "outputs": [
    {
     "data": {
      "text/latex": [
       "$\\displaystyle \\left[\\begin{matrix}0.2299\\\\0.1911\\end{matrix}\\right]$"
      ],
      "text/plain": [
       "⎡0.2299⎤\n",
       "⎢      ⎥\n",
       "⎣0.1911⎦"
      ]
     },
     "execution_count": 17,
     "metadata": {},
     "output_type": "execute_result"
    }
   ],
   "source": [
    "try:\n",
    "    Matrix(Z.round(4))\n",
    "except:\n",
    "    Z = np.zeros(len(M))\n",
    "    for i in range(len(omega_n)):\n",
    "        Z[i] = (GAM[i][i]/(2*np.sqrt(LAMB[i][i])))\n",
    "Matrix(Z.round(4))"
   ]
  },
  {
   "attachments": {},
   "cell_type": "markdown",
   "metadata": {},
   "source": [
    "### Cálculo das frequências amortecidas: $$[\\omega_d] = \\left[ \\omega_n\\sqrt{1-\\zeta^2} \\right]$$"
   ]
  },
  {
   "cell_type": "code",
   "execution_count": 18,
   "metadata": {},
   "outputs": [
    {
     "data": {
      "text/latex": [
       "$\\displaystyle \\left[\\begin{matrix}53.7893\\\\8.7036\\end{matrix}\\right]$"
      ],
      "text/plain": [
       "⎡53.7893⎤\n",
       "⎢       ⎥\n",
       "⎣8.7036 ⎦"
      ]
     },
     "execution_count": 18,
     "metadata": {},
     "output_type": "execute_result"
    }
   ],
   "source": [
    "# Calcula a matriz de freqências amortecidas, em rad/s\n",
    "omega_d = omega_n*np.sqrt(1-np.power(Z, 2))\n",
    "\n",
    "Matrix(omega_d.round(4))"
   ]
  },
  {
   "attachments": {},
   "cell_type": "markdown",
   "metadata": {},
   "source": [
    "### $$\\text{Cálculo da matriz } [\\Pi] = [P^T][M^{-1/2}][F]$$"
   ]
  },
  {
   "cell_type": "code",
   "execution_count": 19,
   "metadata": {},
   "outputs": [
    {
     "data": {
      "text/latex": [
       "$\\displaystyle \\left[\\begin{matrix}0\\\\0\\end{matrix}\\right]$"
      ],
      "text/plain": [
       "⎡0⎤\n",
       "⎢ ⎥\n",
       "⎣0⎦"
      ]
     },
     "execution_count": 19,
     "metadata": {},
     "output_type": "execute_result"
    }
   ],
   "source": [
    "# Calcula a matriz PI, que deve ser igual à matriz coluna, contendo as componentes da força aplicada, distribuida nos GDL's\n",
    "PI = Matrix(P.T@MM@F)\n",
    "\n",
    "Matrix(arredNUM(PI))"
   ]
  },
  {
   "attachments": {},
   "cell_type": "markdown",
   "metadata": {},
   "source": [
    "### Transformações de coordenadas das condições iniciais: $$[X_0], [V_0] ~~\\rightarrow~~ [R_o], [\\dot{R_0}]$$"
   ]
  },
  {
   "attachments": {},
   "cell_type": "markdown",
   "metadata": {},
   "source": [
    "##### $$\\text{Matriz de posição }[X_0] \\rightarrow [R_0]:$$"
   ]
  },
  {
   "cell_type": "code",
   "execution_count": 20,
   "metadata": {},
   "outputs": [
    {
     "data": {
      "text/latex": [
       "$\\displaystyle \\left[\\begin{matrix}1.5916\\\\2.0535\\end{matrix}\\right]$"
      ],
      "text/plain": [
       "⎡1.5916⎤\n",
       "⎢      ⎥\n",
       "⎣2.0535⎦"
      ]
     },
     "execution_count": 20,
     "metadata": {},
     "output_type": "execute_result"
    }
   ],
   "source": [
    "R0 = np.linalg.inv(S)@X0  # Conversão de coordenadas para posição\n",
    "\n",
    "Matrix(R0.round(4))"
   ]
  },
  {
   "attachments": {},
   "cell_type": "markdown",
   "metadata": {},
   "source": [
    "##### $$\\text{Matriz de velocidade }[V_0] \\rightarrow [\\dot{R_0}]:$$"
   ]
  },
  {
   "cell_type": "code",
   "execution_count": 21,
   "metadata": {},
   "outputs": [
    {
     "data": {
      "text/latex": [
       "$\\displaystyle \\left[\\begin{matrix}0\\\\0\\end{matrix}\\right]$"
      ],
      "text/plain": [
       "⎡0⎤\n",
       "⎢ ⎥\n",
       "⎣0⎦"
      ]
     },
     "execution_count": 21,
     "metadata": {},
     "output_type": "execute_result"
    }
   ],
   "source": [
    "RD0 = np.linalg.inv(S)@V0  # Conversão de coordenadas para velocidade\n",
    "\n",
    "Matrix(RD0.round(4))"
   ]
  },
  {
   "attachments": {},
   "cell_type": "markdown",
   "metadata": {},
   "source": [
    "### Obter soluções modais desacopladas do tipo: $$r_i(t) = A_ie^{-\\zeta_i\\omega_it}sen(\\omega_{d_i}t+\\phi_i)+\\frac{1}{m_i\\omega_{d_i}}e^{-\\zeta_i\\omega_it}\\int_0^t \\left( f_i(\\tau)e^{\\zeta_i\\omega_i\\tau}sen(\\omega_{d_i}(t-\\tau)) \\right)d\\tau$$"
   ]
  },
  {
   "attachments": {},
   "cell_type": "markdown",
   "metadata": {},
   "source": [
    "### $$\\text{Cálculo de } A_i = \\sqrt{\\frac{(r_{0_i}\\omega_{d_i})^2+(\\dot{r_{0_i}}+\\zeta_i\\omega_ir_{0_i})^2}{\\omega_{d_i}^2}}:$$"
   ]
  },
  {
   "cell_type": "code",
   "execution_count": 22,
   "metadata": {},
   "outputs": [
    {
     "data": {
      "text/latex": [
       "$\\displaystyle \\left[\\begin{matrix}1.6781\\\\2.1299\\end{matrix}\\right]$"
      ],
      "text/plain": [
       "⎡1.6781⎤\n",
       "⎢      ⎥\n",
       "⎣2.1299⎦"
      ]
     },
     "execution_count": 22,
     "metadata": {},
     "output_type": "execute_result"
    }
   ],
   "source": [
    "A = np.sqrt((np.power((R0*omega_n), 2)+np.power((RD0+(Z*omega_n*R0)), 2))/np.power(omega_d, 2))  # Cálculo da matriz de amplitudes\n",
    "\n",
    "Matrix(A.round(4))"
   ]
  },
  {
   "attachments": {},
   "cell_type": "markdown",
   "metadata": {},
   "source": [
    "### $$\\text{Cálculo de } \\phi_i = tan^{-1}\\left( \\frac{r_{o_i}\\omega_{d_i}}{\\dot{r_0}_i+\\zeta_i\\omega_ir_{0_i}} \\right):$$"
   ]
  },
  {
   "cell_type": "code",
   "execution_count": 23,
   "metadata": {},
   "outputs": [
    {
     "data": {
      "text/latex": [
       "$\\displaystyle \\left[\\begin{matrix}1.3448\\\\1.3819\\end{matrix}\\right]$"
      ],
      "text/plain": [
       "⎡1.3448⎤\n",
       "⎢      ⎥\n",
       "⎣1.3819⎦"
      ]
     },
     "execution_count": 23,
     "metadata": {},
     "output_type": "execute_result"
    }
   ],
   "source": [
    "# Cálculo da matriz de fases, em radianos\n",
    "ph = np.arctan((R0*omega_n)/(RD0+(Z*omega_n*R0)))\n",
    "\n",
    "PHI = []\n",
    "\n",
    "# Ajuste para evitar erros de aproximação do ponto flutuante e indefinições de atan():\n",
    "for i in range(len(ph)):\n",
    "    if (RD0[i]+(Z[i]*omega_n[i]*R0[i])):\n",
    "        if ((ph[i]/np.pi) in (0.25, 0.5, 0.75, 1.0, 1.25, 1.5, 1.75, 2.0)):\n",
    "            PHI.append(nsimplify(round((ph[i]/np.pi), 4)*pi))\n",
    "        else:\n",
    "            PHI.append(round(ph[i], 4))\n",
    "    elif (R0[i]*omega_n[i]):\n",
    "        PHI.append(pi/2)\n",
    "    else:\n",
    "        PHI.append(0)\n",
    "\n",
    "Matrix(PHI)"
   ]
  },
  {
   "attachments": {},
   "cell_type": "markdown",
   "metadata": {},
   "source": [
    "### Montando as expressões:"
   ]
  },
  {
   "cell_type": "code",
   "execution_count": 24,
   "metadata": {},
   "outputs": [
    {
     "data": {
      "image/png": "[encoded data removed]",
      "text/latex": [
       "$\\displaystyle A e^{- \\omega_{n} \\zeta t} \\sin{\\left(\\omega_{d} t + \\phi \\right)} + \\frac{e^{- \\omega_{n} \\zeta t} \\int\\limits_{0}^{t} f{\\left(x \\right)} e^{\\omega_{n} \\zeta x} \\sin{\\left(\\omega_{d} t - \\omega_{d} x \\right)}\\, dx}{\\omega_{d}}$"
      ],
      "text/plain": [
       "                                                               t              \n",
       "                                                               ⌠              \n",
       "                                              -\\omegaₙ⋅\\zeta⋅t ⎮       \\omegaₙ\n",
       "                                             ℯ                ⋅⎮ f(x)⋅ℯ       \n",
       "                                                               ⌡              \n",
       "   -\\omegaₙ⋅\\zeta⋅t                                            0              \n",
       "A⋅ℯ                ⋅sin(\\omega_d⋅t + \\phi) + ─────────────────────────────────\n",
       "                                                                              \n",
       "\n",
       "                                        \n",
       "                                        \n",
       "⋅\\zeta⋅x                                \n",
       "        ⋅sin(\\omega_d⋅t - \\omega_d⋅x) dx\n",
       "                                        \n",
       "                                        \n",
       "────────────────────────────────────────\n",
       "\\omega_d                                "
      ]
     },
     "execution_count": 24,
     "metadata": {},
     "output_type": "execute_result"
    }
   ],
   "source": [
    "# Definição da forma geral da solução:\n",
    "a = Symbol('A')\n",
    "omgn = Symbol('\\omega_n')\n",
    "omgd = Symbol('\\omega_d')\n",
    "phi = Symbol('\\phi')\n",
    "x = Symbol('x')\n",
    "f = Function('f')(x)\n",
    "z = Symbol('\\zeta')\n",
    "t = Symbol('t')\n",
    "\n",
    "# Resposta amortecida:\n",
    "damped = (a*exp(-z*omgn*t)*sin((omgd*t)+phi))\n",
    "\n",
    "# Método Heurístico para resolução da integral indefinida e teorema fundamental do cálculo:\n",
    "def itg(fun, a, b):\n",
    "    expression = heurisch(fun, x)\n",
    "    return simplify(expression.subs(x, b) - expression.subs(x, a))\n",
    "\n",
    "# Resposta forçada:\n",
    "def forced(function=None):\n",
    "    if (function == None):\n",
    "        return ((1/omgd)*exp(-z*omgn*t)*integrate((f*exp(z*omgn*x)*sin(omgd*t-omgd*x)), (x, 0, t)))\n",
    "    else:\n",
    "        return ((1/omgd)*exp(-z*omgn*t)*itg((function*exp(z*omgn*x)*sin(omgd*t-omgd*x)).subs([(a, A[i]), (omgn, omega_n[i]), (phi, PHI[i]), (omgd, omega_d[i]), (z, Z[i])]), 0, t))\n",
    "\n",
    "\n",
    "(damped+forced())"
   ]
  },
  {
   "cell_type": "code",
   "execution_count": 25,
   "metadata": {},
   "outputs": [
    {
     "data": {
      "text/latex": [
       "$\\displaystyle \\left[\\begin{matrix}1.6781 e^{- 12.7052 t} \\sin{\\left(53.7893 t + 1.3448 \\right)}\\\\2.1299 e^{- 1.6948 t} \\sin{\\left(8.7036 t + 1.3819 \\right)}\\end{matrix}\\right]$"
      ],
      "text/plain": [
       "⎡        -12.7052⋅t                        ⎤\n",
       "⎢1.6781⋅ℯ          ⋅sin(53.7893⋅t + 1.3448)⎥\n",
       "⎢                                          ⎥\n",
       "⎢         -1.6948⋅t                        ⎥\n",
       "⎣ 2.1299⋅ℯ         ⋅sin(8.7036⋅t + 1.3819) ⎦"
      ]
     },
     "execution_count": 25,
     "metadata": {},
     "output_type": "execute_result"
    }
   ],
   "source": [
    "# Substituição das respectivas constantes em suas iterações:\n",
    "RT = []\n",
    "for i in range(len(omega_n)):\n",
    "    ri = (damped+forced(PI[i])).subs([(a, A[i]), (omgn, omega_n[i]), (phi, PHI[i]), (omgd, omega_d[i]), (z, Z[i])]).doit()\n",
    "    RT.append(trigsimp(arredNUM(ri)))  # Simplificação trigonométrica\n",
    "\n",
    "Matrix(RT)"
   ]
  },
  {
   "attachments": {},
   "cell_type": "markdown",
   "metadata": {},
   "source": [
    "### Tempos de acomodação (critério 2%): $$ST = \\frac{4}{\\zeta\\omega_n}$$"
   ]
  },
  {
   "cell_type": "code",
   "execution_count": 26,
   "metadata": {},
   "outputs": [
    {
     "name": "stdout",
     "output_type": "stream",
     "text": [
      "ST1 = 0.31 s\n",
      "ST2 = 2.36 s\n"
     ]
    }
   ],
   "source": [
    "ultim_time = 0\n",
    "for i in range(len(omega_n)):\n",
    "    if (Z[i]):\n",
    "        current = (4/(Z[i]*omega_n[i]))\n",
    "        if (current > ultim_time):\n",
    "            ultim_time = np.ceil(current*1.5)\n",
    "        print(f'ST{i+1} = {round(current, 2)} s')\n",
    "    else:\n",
    "        print(f'ST{i+1} = {np.Infinity}')"
   ]
  },
  {
   "attachments": {},
   "cell_type": "markdown",
   "metadata": {},
   "source": [
    "### Respostas desacopladas:"
   ]
  },
  {
   "cell_type": "code",
   "execution_count": 27,
   "metadata": {},
   "outputs": [],
   "source": [
    "# Criando matriz de posição em função do tempo:\n",
    "R = []\n",
    "for i in RT:\n",
    "    fx = lambdify(t, i, 'numpy')\n",
    "    R.append(fx(time))"
   ]
  },
  {
   "attachments": {},
   "cell_type": "markdown",
   "metadata": {},
   "source": [
    "### Retornando ao domínio físico:"
   ]
  },
  {
   "cell_type": "code",
   "execution_count": 28,
   "metadata": {},
   "outputs": [
    {
     "data": {
      "text/latex": [
       "$\\displaystyle \\left[\\begin{matrix}0.1933 e^{- 12.7052 t} \\sin{\\left(53.7893 t + 1.3448 \\right)} + 0.0173 e^{- 1.6948 t} \\sin{\\left(8.7036 t + 1.3819 \\right)}\\\\- 0.0061 e^{- 12.7052 t} \\sin{\\left(53.7893 t + 1.3448 \\right)} + 0.1097 e^{- 1.6948 t} \\sin{\\left(8.7036 t + 1.3819 \\right)}\\end{matrix}\\right]$"
      ],
      "text/plain": [
       "⎡         -12.7052⋅t                                   -1.6948⋅t              \n",
       "⎢ 0.1933⋅ℯ          ⋅sin(53.7893⋅t + 1.3448) + 0.0173⋅ℯ         ⋅sin(8.7036⋅t \n",
       "⎢                                                                             \n",
       "⎢          -12.7052⋅t                                   -1.6948⋅t             \n",
       "⎣- 0.0061⋅ℯ          ⋅sin(53.7893⋅t + 1.3448) + 0.1097⋅ℯ         ⋅sin(8.7036⋅t\n",
       "\n",
       "          ⎤\n",
       "+ 1.3819) ⎥\n",
       "          ⎥\n",
       "          ⎥\n",
       " + 1.3819)⎦"
      ]
     },
     "execution_count": 28,
     "metadata": {},
     "output_type": "execute_result"
    }
   ],
   "source": [
    "XT = arredNUM(trigsimp(Matrix(S@RT)))\n",
    "\n",
    "Matrix(XT)"
   ]
  },
  {
   "attachments": {},
   "cell_type": "markdown",
   "metadata": {},
   "source": [
    "### Resposta temporal:"
   ]
  },
  {
   "cell_type": "code",
   "execution_count": 29,
   "metadata": {},
   "outputs": [
    {
     "name": "stderr",
     "output_type": "stream",
     "text": [
      "The PostScript backend does not support transparency; partially transparent artists will be rendered opaque.\n"
     ]
    },
    {
     "data": {
      "image/png": "[encoded data removed]",
      "text/plain": [
       "<Figure size 1200x500 with 1 Axes>"
      ]
     },
     "metadata": {},
     "output_type": "display_data"
    }
   ],
   "source": [
    "# Criando matriz de posição em função do tempo:\n",
    "X = []\n",
    "for i in XT:\n",
    "    fx = lambdify(t, i, 'numpy')\n",
    "    X.append(fx(time))\n",
    "\n",
    "plt.rcParams['figure.figsize'] = (12, 5)\n",
    "plt.figure(len(omega_n)+2)\n",
    "labels = ['$y_u(t)$', '$y_s(t)$']\n",
    "for i in range(len(X)):\n",
    "    plt.plot(time, (X[i]*1e3), label=labels[i])\n",
    "plt.ylabel('y [mm]')\n",
    "plt.legend()\n",
    "plt.xlabel('Tempo [s]')\n",
    "plt.xlim(0, tf)\n",
    "if(title):\n",
    "    plt.title('Resposta Temporal Real')\n",
    "\n",
    "plt.savefig('curves/TR2_MA.eps', dpi=600, transparent=True, bbox_inches='tight')"
   ]
  },
  {
   "attachments": {},
   "cell_type": "markdown",
   "metadata": {},
   "source": [
    "### Frequências naturais, em Hertz:"
   ]
  },
  {
   "cell_type": "code",
   "execution_count": 30,
   "metadata": {},
   "outputs": [
    {
     "name": "stdout",
     "output_type": "stream",
     "text": [
      "fu = 8.7964 Hz\n",
      "fs = 1.4112 Hz\n"
     ]
    }
   ],
   "source": [
    "labels = ['u', 's']\n",
    "for i in range(len(omega_n)):\n",
    "    print(f'f{labels[i]} = {round((omega_n[i]/(2*np.pi)), 4)} Hz')"
   ]
  },
  {
   "attachments": {},
   "cell_type": "markdown",
   "metadata": {},
   "source": [
    "### Resposta em frequência:"
   ]
  },
  {
   "cell_type": "code",
   "execution_count": 31,
   "metadata": {},
   "outputs": [
    {
     "name": "stderr",
     "output_type": "stream",
     "text": [
      "The PostScript backend does not support transparency; partially transparent artists will be rendered opaque.\n"
     ]
    },
    {
     "data": {
      "image/png": "[encoded data removed]",
      "text/plain": [
       "<Figure size 1200x500 with 1 Axes>"
      ]
     },
     "metadata": {},
     "output_type": "display_data"
    }
   ],
   "source": [
    "def mag2db(mag):\n",
    "    return (20*np.log10(mag))\n",
    "\n",
    "# Preparando as transformadas de Fourier:\n",
    "def fft(sig, ts):\n",
    "    freq = (np.fft.fftfreq(len(sig), ts)*2*np.pi)\n",
    "    amp = mag2db(np.fft.fft(sig)[freq>0])\n",
    "    phase = np.rad2deg(np.angle(np.fft.fft(sig)[freq>0]))\n",
    "    freq = freq[freq>0]\n",
    "\n",
    "    return freq, amp, phase\n",
    "\n",
    "ffts = []\n",
    "for i in X:\n",
    "    ffts.append(fft(i, ts))\n",
    "\n",
    "maxfreq = np.max(omega_n)\n",
    "\n",
    "# Pltotando: Amplitude em função de frequência\n",
    "plt.rcParams['figure.figsize'] = (12, 5)\n",
    "plt.figure()\n",
    "labels = ['$y_u(j\\omega)$', '$y_s(j\\omega)$']\n",
    "for i in range(len(ffts)):\n",
    "    plt.plot((ffts[i][0]/maxfreq), ffts[i][1]-1.5, label=labels[i])\n",
    "for i in range(len(ffts)):\n",
    "    plt.plot((omega_n[i]/maxfreq, omega_n[i]/maxfreq), (-60, 10), linestyle='dotted', label=f'$\\omega = {omega_n[i]:.2f}$')\n",
    "plt.plot((np.sqrt(2), np.sqrt(2)), (-60, 10), color='pink', linestyle='-.', label='$r = \\sqrt{2}$')\n",
    "plt.ylabel('Magnitude [dB]')\n",
    "plt.legend()\n",
    "plt.xlabel('r $[\\\\frac{\\omega}{\\omega_n}]$')\n",
    "plt.xlim(0, 3)\n",
    "plt.ylim(-60, 10)\n",
    "if(title):\n",
    "    plt.title('Resposta em Frequência')\n",
    "plt.savefig('curves/FR_MA.eps', dpi=600, transparent=True, bbox_inches='tight')"
   ]
  }
 ],
 "metadata": {
  "kernelspec": {
   "display_name": "Python 3",
   "language": "python",
   "name": "python3"
  },
  "language_info": {
   "codemirror_mode": {
    "name": "ipython",
    "version": 3
   },
   "file_extension": ".py",
   "mimetype": "text/x-python",
   "name": "python",
   "nbconvert_exporter": "python",
   "pygments_lexer": "ipython3",
   "version": "3.10.6"
  },
  "orig_nbformat": 4
 },
 "nbformat": 4,
 "nbformat_minor": 2
}
