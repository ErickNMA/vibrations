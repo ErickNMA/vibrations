{
 "cells": [
  {
   "attachments": {},
   "cell_type": "markdown",
   "metadata": {},
   "source": [
    "# Análise Modal para Resposta Forçada em Sistemas com Amortecimento"
   ]
  },
  {
   "attachments": {},
   "cell_type": "markdown",
   "metadata": {},
   "source": [
    "### Condições de análise: $$\\text{Sistema Subamortecido } (0 \\leq \\zeta \\geq 1)$$"
   ]
  },
  {
   "cell_type": "code",
   "execution_count": null,
   "metadata": {},
   "outputs": [],
   "source": [
    "#Importando bibliotecas:\n",
    "import numpy as np\n",
    "from sympy import *\n",
    "import warnings\n",
    "import matplotlib.pyplot as plt\n",
    "\n",
    "#Cores dos gráficos:\n",
    "color = ['r', 'g', 'b', 'c', 'm', 'y', 'k']\n",
    "\n",
    "'''\n",
    "#Exibição dos gráficos em janela externa:\n",
    "%matplotlib qt\n",
    "plt.rcParams['lines.linewidth'] = 3\n",
    "plt.rcParams['font.size'] = 20\n",
    "'''\n",
    "\n",
    "# Inicializações importantes:\n",
    "warnings.filterwarnings(\"ignore\")\n",
    "init_printing()\n",
    "\n",
    "# Função de arredondar elemento da matriz:\n",
    "def arredNUM(matrix):\n",
    "    for a in preorder_traversal(matrix):\n",
    "        if isinstance(a, Float):\n",
    "            matrix = matrix.subs(a, round(a, 4))\n",
    "    return matrix"
   ]
  },
  {
   "attachments": {},
   "cell_type": "markdown",
   "metadata": {},
   "source": [
    "$$[M]\\ddot{x} - [C]\\dot{x} + [K]x = [F]$$\n",
    "\n",
    "Jazar - Eq. (11.46)"
   ]
  },
  {
   "attachments": {},
   "cell_type": "markdown",
   "metadata": {},
   "source": [
    "<img src=\"images/exemplo.png\">"
   ]
  },
  {
   "attachments": {},
   "cell_type": "markdown",
   "metadata": {},
   "source": [
    "### Definição das matrizes (Lagrange) e condições iniciais:"
   ]
  },
  {
   "cell_type": "code",
   "execution_count": null,
   "metadata": {},
   "outputs": [],
   "source": [
    "# Matriz das massas (Kg):\n",
    "M = np.array([\n",
    "    [4, 0, 0],\n",
    "    [0, 4, 0],\n",
    "    [0, 0, 4]\n",
    "])\n",
    "\n",
    "# Matriz de rigidez (N/m):\n",
    "K = np.array([\n",
    "    [8, -4, 0], \n",
    "    [-4, 8, -4], \n",
    "    [0, -4, 4]\n",
    "])\n",
    "\n",
    "# Matriz de amortecimento (N*s/m):\n",
    "C = np.array([\n",
    "    [0, 0, 0],\n",
    "    [0, 0, 0],\n",
    "    [0, 0, 0]\n",
    "])\n",
    "\n",
    "# Matriz de posições iniciais (transposta):\n",
    "X0 = np.array([1, 0, 0]).T\n",
    "\n",
    "# Matriz de velocidades iniciais (transposta):\n",
    "V0 = np.array([0, 0, 0]).T\n",
    "\n",
    "# Matriz de F(t) (transposta):\n",
    "F = np.array([0, 0, 0]).T"
   ]
  },
  {
   "attachments": {},
   "cell_type": "markdown",
   "metadata": {},
   "source": [
    "### $$\\text{Obtenção de } [M]^{-1/2}:$$"
   ]
  },
  {
   "cell_type": "code",
   "execution_count": null,
   "metadata": {},
   "outputs": [],
   "source": [
    "MM = np.power(M, -1/2) # Inverso da raíz quadrada\n",
    "\n",
    "MM[MM == np.inf] = 0 # Transforma os elementos infinitos em zero\n",
    "\n",
    "Matrix(MM)"
   ]
  },
  {
   "attachments": {},
   "cell_type": "markdown",
   "metadata": {},
   "source": [
    "### $$ \\text{Cálculo da matriz } \\tilde{[K]} = [M^{-1/2}][K][M^{-1/2}]:$$"
   ]
  },
  {
   "cell_type": "code",
   "execution_count": null,
   "metadata": {},
   "outputs": [],
   "source": [
    "K_til = MM@K@MM # Cálculo da matriz K_til\n",
    "\n",
    "Matrix(K_til)"
   ]
  },
  {
   "attachments": {},
   "cell_type": "markdown",
   "metadata": {},
   "source": [
    "### $$ \\text{Cálculo da matriz } \\tilde{[C]} = [M^{-1/2}][C][M^{-1/2}]:$$"
   ]
  },
  {
   "cell_type": "code",
   "execution_count": null,
   "metadata": {},
   "outputs": [],
   "source": [
    "C_til = MM@C@MM # Cálculo da matriz C_til\n",
    "\n",
    "Matrix(C_til)"
   ]
  },
  {
   "attachments": {},
   "cell_type": "markdown",
   "metadata": {},
   "source": [
    "### $$\\text{Obtendo os autovalores (} \\lambda \\text{) e autovetores normalizados (} P \\text{) de }\\tilde{[K]}:$$"
   ]
  },
  {
   "cell_type": "code",
   "execution_count": null,
   "metadata": {},
   "outputs": [],
   "source": [
    "lamb, P = np.linalg.eig(K_til) # Obtenção dos autovalores e autovetores normalizados"
   ]
  },
  {
   "attachments": {},
   "cell_type": "markdown",
   "metadata": {},
   "source": [
    "##### $$\\text{Matriz de autovalores }[\\lambda]:$$"
   ]
  },
  {
   "cell_type": "code",
   "execution_count": null,
   "metadata": {},
   "outputs": [],
   "source": [
    "Matrix(lamb.round(4))"
   ]
  },
  {
   "attachments": {},
   "cell_type": "markdown",
   "metadata": {},
   "source": [
    "##### $$\\text{Matriz de autovetores normalizados }[P]:$$"
   ]
  },
  {
   "cell_type": "code",
   "execution_count": null,
   "metadata": {},
   "outputs": [],
   "source": [
    "Matrix(P.round(4))"
   ]
  },
  {
   "attachments": {},
   "cell_type": "markdown",
   "metadata": {},
   "source": [
    "### Cálculo das frequências naturais: $$[\\omega_n] = \\left[ \\sqrt{\\lambda} \\right]$$"
   ]
  },
  {
   "cell_type": "code",
   "execution_count": null,
   "metadata": {},
   "outputs": [],
   "source": [
    "omega_n = np.sqrt(lamb) # Calcula a matriz de freqências naturais, em rad/s\n",
    "\n",
    "Matrix(omega_n.round(4))"
   ]
  },
  {
   "attachments": {},
   "cell_type": "markdown",
   "metadata": {},
   "source": [
    "### $$\\text{Cálculo da matriz } [S] = [M^{-1/2}][P]$$"
   ]
  },
  {
   "cell_type": "code",
   "execution_count": null,
   "metadata": {},
   "outputs": [],
   "source": [
    "S = MM@P # Cálcula a matriz S\n",
    "\n",
    "Matrix(S.round(4))"
   ]
  },
  {
   "attachments": {},
   "cell_type": "markdown",
   "metadata": {},
   "source": [
    "### $$\\text{Cálculo da matriz } [\\Lambda] = [P^T][\\tilde{K}][P]$$"
   ]
  },
  {
   "cell_type": "code",
   "execution_count": null,
   "metadata": {},
   "outputs": [],
   "source": [
    "LAMB = P.T@K_til@P # Calcula a matriz LAMBDA, que deve ser igual à matriz diagonal contendo os autovalores\n",
    "\n",
    "Matrix(LAMB.round(4))"
   ]
  },
  {
   "attachments": {},
   "cell_type": "markdown",
   "metadata": {},
   "source": [
    "### Transformações de coordenadas das condições iniciais: $$[X_0], [V_0] ~~\\rightarrow~~ [R_o], [\\dot{R_0}]$$"
   ]
  },
  {
   "attachments": {},
   "cell_type": "markdown",
   "metadata": {},
   "source": [
    "##### $$\\text{Matriz de posição }[X_0] \\rightarrow [R_0]:$$"
   ]
  },
  {
   "cell_type": "code",
   "execution_count": null,
   "metadata": {},
   "outputs": [],
   "source": [
    "R0 = np.linalg.inv(S)@X0 # Conversão de coordenadas para posição\n",
    "\n",
    "Matrix(R0.round(4))"
   ]
  },
  {
   "attachments": {},
   "cell_type": "markdown",
   "metadata": {},
   "source": [
    "##### $$\\text{Matriz de velocidade }[V_0] \\rightarrow [\\dot{R_0}]:$$"
   ]
  },
  {
   "cell_type": "code",
   "execution_count": null,
   "metadata": {},
   "outputs": [],
   "source": [
    "RD0 = np.linalg.inv(S)@V0 # Conversão de coordenadas para velocidade\n",
    "\n",
    "Matrix(RD0.round(4))"
   ]
  },
  {
   "attachments": {},
   "cell_type": "markdown",
   "metadata": {},
   "source": [
    "### Obter soluções modais desacopladas do tipo: $$r_i(t) = A_isen(\\omega_it + \\phi_i)$$"
   ]
  },
  {
   "attachments": {},
   "cell_type": "markdown",
   "metadata": {},
   "source": [
    "### $$\\text{Cálculo de } A_i = \\frac{\\sqrt{\\omega_i^2r_{0_i}^2+\\dot{r_0}_i^2}}{\\omega_i}:$$"
   ]
  },
  {
   "cell_type": "code",
   "execution_count": null,
   "metadata": {},
   "outputs": [],
   "source": [
    "A = (np.sqrt((np.power(omega_n, 2)*np.power(R0, 2))+np.power(RD0, 2))/omega_n) #Cálculo da matriz de amplitudes\n",
    "\n",
    "Matrix(A.round(4))"
   ]
  },
  {
   "attachments": {},
   "cell_type": "markdown",
   "metadata": {},
   "source": [
    "### $$\\text{Cálculo de } \\phi_i = tan^{-1}\\left( \\frac{\\omega_ir_{o_i}}{\\dot{r_0}_i} \\right):$$"
   ]
  },
  {
   "cell_type": "code",
   "execution_count": null,
   "metadata": {},
   "outputs": [],
   "source": [
    "ph = np.arctan((omega_n*R0)/RD0) # Cálculo da matriz de fases, em radianos\n",
    "\n",
    "PHI = []\n",
    "\n",
    "for i in ph: #Ajuste para evitar erros de aproximação do ponto flutuante\n",
    "    PHI.append(nsimplify(round((i/np.pi), 4)*pi))\n",
    "\n",
    "Matrix(PHI)"
   ]
  },
  {
   "attachments": {},
   "cell_type": "markdown",
   "metadata": {},
   "source": [
    "### Montando as expressões:"
   ]
  },
  {
   "cell_type": "code",
   "execution_count": null,
   "metadata": {},
   "outputs": [],
   "source": [
    "# Definição da forma geral da solução:\n",
    "a = Symbol('A')\n",
    "omg = Symbol('\\omega')\n",
    "phi = Symbol('\\phi')\n",
    "t = Symbol('t')\n",
    "rt = a*sin(omg*t + phi)\n",
    "\n",
    "# Substituição das respectivas constantes em suas iterações:\n",
    "RT = []\n",
    "for i in range(len(omega_n)):\n",
    "    ri = rt.subs([(a, round(A[i], 4)), (omg, round(omega_n[i], 4)), (phi, PHI[i])])\n",
    "    RT.append(trigsimp(ri)) # Simplificação trigonométrica\n",
    "\n",
    "Matrix(RT)"
   ]
  },
  {
   "cell_type": "code",
   "execution_count": null,
   "metadata": {},
   "outputs": [],
   "source": [
    "time = np.arange(0, 100, .1) # Criando vetor de tempo\n",
    "\n",
    "# Criando matriz de posição em função do tempo:\n",
    "R = []\n",
    "for i in range(len(RT)):\n",
    "    R.append([])\n",
    "    for j in time:\n",
    "        R[i].append(RT[i].subs(t, j))\n",
    "\n",
    "# Plotando os gráficos:\n",
    "plt.rcParams['figure.figsize'] = (12, 5)\n",
    "plt.figure(1)\n",
    "for i in range(len(R)):\n",
    "    plt.plot(time, R[i], color[i], label=f'$r_{i}(t)$')\n",
    "plt.ylabel('r')\n",
    "plt.legend()\n",
    "plt.xlabel('Tempo [s]')\n",
    "plt.title('')\n",
    "plt.grid()\n",
    "plt.show()"
   ]
  },
  {
   "attachments": {},
   "cell_type": "markdown",
   "metadata": {},
   "source": [
    "### Retornando ao domínio físico:"
   ]
  },
  {
   "cell_type": "code",
   "execution_count": null,
   "metadata": {},
   "outputs": [],
   "source": [
    "XT = arredNUM(Matrix(S@RT))\n",
    "\n",
    "Matrix(XT)"
   ]
  },
  {
   "attachments": {},
   "cell_type": "markdown",
   "metadata": {},
   "source": [
    "### Resposta temporal:"
   ]
  },
  {
   "cell_type": "code",
   "execution_count": null,
   "metadata": {},
   "outputs": [],
   "source": [
    "# Criando matriz de posição em função do tempo:\n",
    "X = []\n",
    "for i in range(len(XT)):\n",
    "    X.append([])\n",
    "    for j in time:\n",
    "        X[i].append(XT[i].subs(t, j))\n",
    "\n",
    "# Plotando os gráficos:\n",
    "for i in range(len(X)):\n",
    "    plt.rcParams['figure.figsize'] = (12, 5)\n",
    "    plt.figure(i+2)\n",
    "    plt.plot(time, X[i], color[i], label='$x(t)$')\n",
    "    plt.ylabel('x [m]')\n",
    "    #plt.legend()\n",
    "    plt.xlabel('Tempo [s]')\n",
    "    plt.title('')\n",
    "    plt.grid()\n",
    "    plt.show()\n"
   ]
  },
  {
   "cell_type": "code",
   "execution_count": null,
   "metadata": {},
   "outputs": [],
   "source": [
    "plt.rcParams['figure.figsize'] = (12, 5)\n",
    "plt.figure(5)\n",
    "for i in range(len(X)):\n",
    "    plt.plot(time, X[i], color[i], label='$x_1(t)$')\n",
    "plt.ylabel('x [m]')\n",
    "plt.legend()\n",
    "plt.xlabel('Tempo [s]')\n",
    "plt.title('')\n",
    "plt.grid()\n",
    "plt.show()"
   ]
  },
  {
   "attachments": {},
   "cell_type": "markdown",
   "metadata": {},
   "source": [
    "### Frequências naturais em Hertz:"
   ]
  },
  {
   "cell_type": "code",
   "execution_count": null,
   "metadata": {},
   "outputs": [],
   "source": [
    "for i in range(len(omega_n)):\n",
    "    print(f'f{i+1} = {round((omega_n[i]/(2*np.pi)), 4)} Hz')"
   ]
  }
 ],
 "metadata": {
  "kernelspec": {
   "display_name": "Python 3",
   "language": "python",
   "name": "python3"
  },
  "language_info": {
   "codemirror_mode": {
    "name": "ipython",
    "version": 3
   },
   "file_extension": ".py",
   "mimetype": "text/x-python",
   "name": "python",
   "nbconvert_exporter": "python",
   "pygments_lexer": "ipython3",
   "version": "3.11.0"
  },
  "orig_nbformat": 4
 },
 "nbformat": 4,
 "nbformat_minor": 2
}
