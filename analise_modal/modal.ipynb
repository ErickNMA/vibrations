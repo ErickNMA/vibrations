{
 "cells": [
  {
   "attachments": {},
   "cell_type": "markdown",
   "metadata": {},
   "source": [
    "# Análise Modal para Resposta Forçada em Sistemas com Amortecimento"
   ]
  },
  {
   "attachments": {},
   "cell_type": "markdown",
   "metadata": {},
   "source": [
    "### Condições de operação: $$\\text{Sistema Subamortecido } (0 \\leq \\zeta \\geq 1)$$"
   ]
  },
  {
   "cell_type": "code",
   "execution_count": 1,
   "metadata": {},
   "outputs": [],
   "source": [
    "#Importando bibliotecas:\n",
    "import numpy as np\n",
    "from sympy import *\n",
    "import warnings\n",
    "import matplotlib.pyplot as plt\n",
    "\n",
    "#Cores dos gráficos:\n",
    "color = ['r', 'g', 'b', 'y', 'p']\n",
    "\n",
    "'''\n",
    "#Exibição dos gráficos em janela externa:\n",
    "%matplotlib qt\n",
    "plt.rcParams['lines.linewidth'] = 3\n",
    "plt.rcParams['font.size'] = 20\n",
    "'''\n",
    "\n",
    "# Inicializações importantes:\n",
    "warnings.filterwarnings(\"ignore\")\n",
    "init_printing()\n",
    "\n",
    "# Função de arredondar elemento da matriz:\n",
    "def arredNUM(matrix):\n",
    "    for a in preorder_traversal(matrix):\n",
    "        if isinstance(a, Float):\n",
    "            matrix = matrix.subs(a, round(a, 4))\n",
    "    return matrix"
   ]
  },
  {
   "attachments": {},
   "cell_type": "markdown",
   "metadata": {},
   "source": [
    "$$[M]\\ddot{x} - [C]\\dot{x} + [K]x = [F]$$\n",
    "\n",
    "Jazar - Eq. (11.46)"
   ]
  },
  {
   "attachments": {},
   "cell_type": "markdown",
   "metadata": {},
   "source": [
    "<img src=\"images/exemplo.png\">"
   ]
  },
  {
   "attachments": {},
   "cell_type": "markdown",
   "metadata": {},
   "source": [
    "### Definição das matrizes (Lagrange) e condições iniciais:"
   ]
  },
  {
   "cell_type": "code",
   "execution_count": 2,
   "metadata": {},
   "outputs": [],
   "source": [
    "# Matriz das massas (Kg):\n",
    "M = np.array([\n",
    "    [4, 0, 0],\n",
    "    [0, 4, 0],\n",
    "    [0, 0, 4]\n",
    "])\n",
    "\n",
    "# Matriz de rigidez (N/m):\n",
    "K = np.array([\n",
    "    [8, -4, 0], \n",
    "    [-4, 8, -4], \n",
    "    [0, -4, 4]\n",
    "])\n",
    "\n",
    "# Matriz de amortecimento (N*s/m):\n",
    "C = np.array([\n",
    "    [0, 0, 0],\n",
    "    [0, 0, 0],\n",
    "    [0, 0, 0]\n",
    "])\n",
    "\n",
    "# Matriz de posições iniciais (transposta):\n",
    "X0 = np.array([1, 0, 0]).T\n",
    "\n",
    "# Matriz de velocidades iniciais (transposta):\n",
    "V0 = np.array([0, 0, 0]).T\n",
    "\n",
    "# Matriz de F(t) (transposta):\n",
    "F = np.array([0, 0, 0]).T"
   ]
  },
  {
   "attachments": {},
   "cell_type": "markdown",
   "metadata": {},
   "source": [
    "### $$\\text{Obtenção de } [M]^{-1/2}:$$"
   ]
  },
  {
   "cell_type": "code",
   "execution_count": 3,
   "metadata": {},
   "outputs": [
    {
     "data": {
      "image/png": "[encoded data removed]",
      "text/latex": [
       "$\\displaystyle \\left[\\begin{matrix}0.5 & 0 & 0\\\\0 & 0.5 & 0\\\\0 & 0 & 0.5\\end{matrix}\\right]$"
      ],
      "text/plain": [
       "⎡0.5   0    0 ⎤\n",
       "⎢             ⎥\n",
       "⎢ 0   0.5   0 ⎥\n",
       "⎢             ⎥\n",
       "⎣ 0    0   0.5⎦"
      ]
     },
     "execution_count": 3,
     "metadata": {},
     "output_type": "execute_result"
    }
   ],
   "source": [
    "MM = np.power(M, -1/2) # Inverso da raíz quadrada\n",
    "\n",
    "MM[MM == np.inf] = 0 # Transforma os elementos infinitos em zero\n",
    "\n",
    "Matrix(MM)"
   ]
  },
  {
   "attachments": {},
   "cell_type": "markdown",
   "metadata": {},
   "source": [
    "### $$ \\text{Cálculo da matriz } \\tilde{[K]} = [M^{-1/2}][K][M^{-1/2}]:$$"
   ]
  },
  {
   "cell_type": "code",
   "execution_count": 4,
   "metadata": {},
   "outputs": [
    {
     "data": {
      "image/png": "[encoded data removed]",
      "text/latex": [
       "$\\displaystyle \\left[\\begin{matrix}2.0 & -1.0 & 0\\\\-1.0 & 2.0 & -1.0\\\\0 & -1.0 & 1.0\\end{matrix}\\right]$"
      ],
      "text/plain": [
       "⎡2.0   -1.0   0  ⎤\n",
       "⎢                ⎥\n",
       "⎢-1.0  2.0   -1.0⎥\n",
       "⎢                ⎥\n",
       "⎣ 0    -1.0  1.0 ⎦"
      ]
     },
     "execution_count": 4,
     "metadata": {},
     "output_type": "execute_result"
    }
   ],
   "source": [
    "K_til = MM@K@MM # Cálculo da matriz K_til\n",
    "\n",
    "Matrix(K_til)"
   ]
  },
  {
   "attachments": {},
   "cell_type": "markdown",
   "metadata": {},
   "source": [
    "### $$ \\text{Cálculo da matriz } \\tilde{[C]} = [M^{-1/2}][C][M^{-1/2}]:$$"
   ]
  },
  {
   "cell_type": "code",
   "execution_count": 5,
   "metadata": {},
   "outputs": [
    {
     "data": {
      "image/png": "[encoded data removed]",
      "text/latex": [
       "$\\displaystyle \\left[\\begin{matrix}0 & 0 & 0\\\\0 & 0 & 0\\\\0 & 0 & 0\\end{matrix}\\right]$"
      ],
      "text/plain": [
       "⎡0  0  0⎤\n",
       "⎢       ⎥\n",
       "⎢0  0  0⎥\n",
       "⎢       ⎥\n",
       "⎣0  0  0⎦"
      ]
     },
     "execution_count": 5,
     "metadata": {},
     "output_type": "execute_result"
    }
   ],
   "source": [
    "C_til = MM@C@MM # Cálculo da matriz C_til\n",
    "\n",
    "Matrix(C_til)"
   ]
  },
  {
   "attachments": {},
   "cell_type": "markdown",
   "metadata": {},
   "source": [
    "### $$\\text{Obtendo os autovalores (} \\lambda \\text{) e autovetores normalizados (} P \\text{) de }\\tilde{[K]}:$$"
   ]
  },
  {
   "cell_type": "code",
   "execution_count": 6,
   "metadata": {},
   "outputs": [],
   "source": [
    "lamb, P = np.linalg.eig(K_til) # Obtenção dos autovalores e autovetores normalizados"
   ]
  },
  {
   "attachments": {},
   "cell_type": "markdown",
   "metadata": {},
   "source": [
    "##### $$\\text{Matriz de autovalores }[\\lambda]:$$"
   ]
  },
  {
   "cell_type": "code",
   "execution_count": 7,
   "metadata": {},
   "outputs": [
    {
     "data": {
      "image/png": "[encoded data removed]",
      "text/latex": [
       "$\\displaystyle \\left[\\begin{matrix}3.247\\\\1.555\\\\0.1981\\end{matrix}\\right]$"
      ],
      "text/plain": [
       "⎡3.247 ⎤\n",
       "⎢      ⎥\n",
       "⎢1.555 ⎥\n",
       "⎢      ⎥\n",
       "⎣0.1981⎦"
      ]
     },
     "execution_count": 7,
     "metadata": {},
     "output_type": "execute_result"
    }
   ],
   "source": [
    "Matrix(lamb.round(4))"
   ]
  },
  {
   "attachments": {},
   "cell_type": "markdown",
   "metadata": {},
   "source": [
    "##### $$\\text{Matriz de autovetores normalizados }[P]:$$"
   ]
  },
  {
   "cell_type": "code",
   "execution_count": 8,
   "metadata": {},
   "outputs": [
    {
     "data": {
      "image/png": "[encoded data removed]",
      "text/latex": [
       "$\\displaystyle \\left[\\begin{matrix}-0.591 & -0.737 & 0.328\\\\0.737 & -0.328 & 0.591\\\\-0.328 & 0.591 & 0.737\\end{matrix}\\right]$"
      ],
      "text/plain": [
       "⎡-0.591  -0.737  0.328⎤\n",
       "⎢                     ⎥\n",
       "⎢0.737   -0.328  0.591⎥\n",
       "⎢                     ⎥\n",
       "⎣-0.328  0.591   0.737⎦"
      ]
     },
     "execution_count": 8,
     "metadata": {},
     "output_type": "execute_result"
    }
   ],
   "source": [
    "Matrix(P.round(4))"
   ]
  },
  {
   "attachments": {},
   "cell_type": "markdown",
   "metadata": {},
   "source": [
    "### Cálculo das frequências naturais: $$[\\omega_n] = \\left[ \\sqrt{\\lambda} \\right]$$"
   ]
  },
  {
   "cell_type": "code",
   "execution_count": 9,
   "metadata": {},
   "outputs": [
    {
     "data": {
      "image/png": "[encoded data removed]",
      "text/latex": [
       "$\\displaystyle \\left[\\begin{matrix}1.8019\\\\1.247\\\\0.445\\end{matrix}\\right]$"
      ],
      "text/plain": [
       "⎡1.8019⎤\n",
       "⎢      ⎥\n",
       "⎢1.247 ⎥\n",
       "⎢      ⎥\n",
       "⎣0.445 ⎦"
      ]
     },
     "execution_count": 9,
     "metadata": {},
     "output_type": "execute_result"
    }
   ],
   "source": [
    "omega_n = np.sqrt(lamb) # Calcula a matriz de freqências naturais, em rad/s\n",
    "\n",
    "Matrix(omega_n.round(4))"
   ]
  },
  {
   "attachments": {},
   "cell_type": "markdown",
   "metadata": {},
   "source": [
    "### $$\\text{Cálculo da matriz } [S] = [M^{-1/2}][P]$$"
   ]
  },
  {
   "cell_type": "code",
   "execution_count": 10,
   "metadata": {},
   "outputs": [
    {
     "data": {
      "image/png": "[encoded data removed]",
      "text/latex": [
       "$\\displaystyle \\left[\\begin{matrix}-0.2955 & -0.3685 & 0.164\\\\0.3685 & -0.164 & 0.2955\\\\-0.164 & 0.2955 & 0.3685\\end{matrix}\\right]$"
      ],
      "text/plain": [
       "⎡-0.2955  -0.3685  0.164 ⎤\n",
       "⎢                        ⎥\n",
       "⎢0.3685   -0.164   0.2955⎥\n",
       "⎢                        ⎥\n",
       "⎣-0.164   0.2955   0.3685⎦"
      ]
     },
     "execution_count": 10,
     "metadata": {},
     "output_type": "execute_result"
    }
   ],
   "source": [
    "S = MM@P # Cálcula a matriz S\n",
    "\n",
    "Matrix(S.round(4))"
   ]
  },
  {
   "attachments": {},
   "cell_type": "markdown",
   "metadata": {},
   "source": [
    "### $$\\text{Cálculo da matriz } [\\Lambda] = [P^T][\\tilde{K}][P]$$"
   ]
  },
  {
   "cell_type": "code",
   "execution_count": 11,
   "metadata": {},
   "outputs": [
    {
     "ename": "KeyboardInterrupt",
     "evalue": "",
     "output_type": "error",
     "traceback": [
      "\u001b[1;31m---------------------------------------------------------------------------\u001b[0m",
      "\u001b[1;31mKeyboardInterrupt\u001b[0m                         Traceback (most recent call last)",
      "\u001b[1;32mc:\\Users\\Erick\\Documents\\GitHub\\vibrations\\analise_modal\\modal.ipynb Cell 25\u001b[0m in \u001b[0;36m3\n\u001b[0;32m      <a href='vscode-notebook-cell:/c%3A/Users/Erick/Documents/GitHub/vibrations/analise_modal/modal.ipynb#X33sZmlsZQ%3D%3D?line=0'>1</a>\u001b[0m LAMB \u001b[39m=\u001b[39m P\u001b[39m.\u001b[39mT\u001b[39m@K_til\u001b[39m\u001b[39m@P\u001b[39m \u001b[39m# Calcula a matriz LAMBDA, que deve ser igual à matriz diagonal contendo os autovalores\u001b[39;00m\n\u001b[1;32m----> <a href='vscode-notebook-cell:/c%3A/Users/Erick/Documents/GitHub/vibrations/analise_modal/modal.ipynb#X33sZmlsZQ%3D%3D?line=2'>3</a>\u001b[0m Matrix(LAMB\u001b[39m.\u001b[39mround(\u001b[39m4\u001b[39m))\n",
      "File \u001b[1;32m~\\AppData\\Roaming\\Python\\Python311\\site-packages\\IPython\\core\\displayhook.py:262\u001b[0m, in \u001b[0;36mDisplayHook.__call__\u001b[1;34m(self, result)\u001b[0m\n\u001b[0;32m    260\u001b[0m \u001b[39mself\u001b[39m\u001b[39m.\u001b[39mstart_displayhook()\n\u001b[0;32m    261\u001b[0m \u001b[39mself\u001b[39m\u001b[39m.\u001b[39mwrite_output_prompt()\n\u001b[1;32m--> 262\u001b[0m format_dict, md_dict \u001b[39m=\u001b[39m \u001b[39mself\u001b[39;49m\u001b[39m.\u001b[39;49mcompute_format_data(result)\n\u001b[0;32m    263\u001b[0m \u001b[39mself\u001b[39m\u001b[39m.\u001b[39mupdate_user_ns(result)\n\u001b[0;32m    264\u001b[0m \u001b[39mself\u001b[39m\u001b[39m.\u001b[39mfill_exec_result(result)\n",
      "File \u001b[1;32m~\\AppData\\Roaming\\Python\\Python311\\site-packages\\IPython\\core\\displayhook.py:151\u001b[0m, in \u001b[0;36mDisplayHook.compute_format_data\u001b[1;34m(self, result)\u001b[0m\n\u001b[0;32m    121\u001b[0m \u001b[39mdef\u001b[39;00m \u001b[39mcompute_format_data\u001b[39m(\u001b[39mself\u001b[39m, result):\n\u001b[0;32m    122\u001b[0m     \u001b[39m\"\"\"Compute format data of the object to be displayed.\u001b[39;00m\n\u001b[0;32m    123\u001b[0m \n\u001b[0;32m    124\u001b[0m \u001b[39m    The format data is a generalization of the :func:`repr` of an object.\u001b[39;00m\n\u001b[1;32m   (...)\u001b[0m\n\u001b[0;32m    149\u001b[0m \n\u001b[0;32m    150\u001b[0m \u001b[39m    \"\"\"\u001b[39;00m\n\u001b[1;32m--> 151\u001b[0m     \u001b[39mreturn\u001b[39;00m \u001b[39mself\u001b[39;49m\u001b[39m.\u001b[39;49mshell\u001b[39m.\u001b[39;49mdisplay_formatter\u001b[39m.\u001b[39;49mformat(result)\n",
      "File \u001b[1;32m~\\AppData\\Roaming\\Python\\Python311\\site-packages\\IPython\\core\\formatters.py:177\u001b[0m, in \u001b[0;36mDisplayFormatter.format\u001b[1;34m(self, obj, include, exclude)\u001b[0m\n\u001b[0;32m    175\u001b[0m md \u001b[39m=\u001b[39m \u001b[39mNone\u001b[39;00m\n\u001b[0;32m    176\u001b[0m \u001b[39mtry\u001b[39;00m:\n\u001b[1;32m--> 177\u001b[0m     data \u001b[39m=\u001b[39m formatter(obj)\n\u001b[0;32m    178\u001b[0m \u001b[39mexcept\u001b[39;00m:\n\u001b[0;32m    179\u001b[0m     \u001b[39m# FIXME: log the exception\u001b[39;00m\n\u001b[0;32m    180\u001b[0m     \u001b[39mraise\u001b[39;00m\n",
      "File \u001b[1;32m~\\AppData\\Roaming\\Python\\Python311\\site-packages\\decorator.py:232\u001b[0m, in \u001b[0;36mdecorate.<locals>.fun\u001b[1;34m(*args, **kw)\u001b[0m\n\u001b[0;32m    230\u001b[0m \u001b[39mif\u001b[39;00m \u001b[39mnot\u001b[39;00m kwsyntax:\n\u001b[0;32m    231\u001b[0m     args, kw \u001b[39m=\u001b[39m fix(args, kw, sig)\n\u001b[1;32m--> 232\u001b[0m \u001b[39mreturn\u001b[39;00m caller(func, \u001b[39m*\u001b[39;49m(extras \u001b[39m+\u001b[39;49m args), \u001b[39m*\u001b[39;49m\u001b[39m*\u001b[39;49mkw)\n",
      "File \u001b[1;32m~\\AppData\\Roaming\\Python\\Python311\\site-packages\\IPython\\core\\formatters.py:221\u001b[0m, in \u001b[0;36mcatch_format_error\u001b[1;34m(method, self, *args, **kwargs)\u001b[0m\n\u001b[0;32m    219\u001b[0m \u001b[39m\"\"\"show traceback on failed format call\"\"\"\u001b[39;00m\n\u001b[0;32m    220\u001b[0m \u001b[39mtry\u001b[39;00m:\n\u001b[1;32m--> 221\u001b[0m     r \u001b[39m=\u001b[39m method(\u001b[39mself\u001b[39;49m, \u001b[39m*\u001b[39;49margs, \u001b[39m*\u001b[39;49m\u001b[39m*\u001b[39;49mkwargs)\n\u001b[0;32m    222\u001b[0m \u001b[39mexcept\u001b[39;00m \u001b[39mNotImplementedError\u001b[39;00m:\n\u001b[0;32m    223\u001b[0m     \u001b[39m# don't warn on NotImplementedErrors\u001b[39;00m\n\u001b[0;32m    224\u001b[0m     \u001b[39mreturn\u001b[39;00m \u001b[39mself\u001b[39m\u001b[39m.\u001b[39m_check_return(\u001b[39mNone\u001b[39;00m, args[\u001b[39m0\u001b[39m])\n",
      "File \u001b[1;32m~\\AppData\\Roaming\\Python\\Python311\\site-packages\\IPython\\core\\formatters.py:342\u001b[0m, in \u001b[0;36mBaseFormatter.__call__\u001b[1;34m(self, obj)\u001b[0m\n\u001b[0;32m    340\u001b[0m     method \u001b[39m=\u001b[39m get_real_method(obj, \u001b[39mself\u001b[39m\u001b[39m.\u001b[39mprint_method)\n\u001b[0;32m    341\u001b[0m     \u001b[39mif\u001b[39;00m method \u001b[39mis\u001b[39;00m \u001b[39mnot\u001b[39;00m \u001b[39mNone\u001b[39;00m:\n\u001b[1;32m--> 342\u001b[0m         \u001b[39mreturn\u001b[39;00m method()\n\u001b[0;32m    343\u001b[0m     \u001b[39mreturn\u001b[39;00m \u001b[39mNone\u001b[39;00m\n\u001b[0;32m    344\u001b[0m \u001b[39melse\u001b[39;00m:\n",
      "File \u001b[1;32mc:\\Users\\Erick\\AppData\\Local\\Programs\\Python\\Python311\\Lib\\site-packages\\sympy\\interactive\\printing.py:178\u001b[0m, in \u001b[0;36m_init_ipython_printing.<locals>._print_latex_png\u001b[1;34m(o)\u001b[0m\n\u001b[0;32m    176\u001b[0m     s \u001b[39m=\u001b[39m \u001b[39m'\u001b[39m\u001b[39m$\u001b[39m\u001b[39m\\\\\u001b[39;00m\u001b[39mdisplaystyle \u001b[39m\u001b[39m%s\u001b[39;00m\u001b[39m$\u001b[39m\u001b[39m'\u001b[39m \u001b[39m%\u001b[39m s\n\u001b[0;32m    177\u001b[0m \u001b[39mtry\u001b[39;00m:\n\u001b[1;32m--> 178\u001b[0m     \u001b[39mreturn\u001b[39;00m _preview_wrapper(s)\n\u001b[0;32m    179\u001b[0m \u001b[39mexcept\u001b[39;00m \u001b[39mRuntimeError\u001b[39;00m \u001b[39mas\u001b[39;00m e:\n\u001b[0;32m    180\u001b[0m     debug(\u001b[39m'\u001b[39m\u001b[39mpreview failed with:\u001b[39m\u001b[39m'\u001b[39m, \u001b[39mrepr\u001b[39m(e),\n\u001b[0;32m    181\u001b[0m           \u001b[39m'\u001b[39m\u001b[39m Falling back to matplotlib backend\u001b[39m\u001b[39m'\u001b[39m)\n",
      "File \u001b[1;32mc:\\Users\\Erick\\AppData\\Local\\Programs\\Python\\Python311\\Lib\\site-packages\\sympy\\interactive\\printing.py:89\u001b[0m, in \u001b[0;36m_init_ipython_printing.<locals>._preview_wrapper\u001b[1;34m(o)\u001b[0m\n\u001b[0;32m     87\u001b[0m exprbuffer \u001b[39m=\u001b[39m BytesIO()\n\u001b[0;32m     88\u001b[0m \u001b[39mtry\u001b[39;00m:\n\u001b[1;32m---> 89\u001b[0m     preview(o, output\u001b[39m=\u001b[39;49m\u001b[39m'\u001b[39;49m\u001b[39mpng\u001b[39;49m\u001b[39m'\u001b[39;49m, viewer\u001b[39m=\u001b[39;49m\u001b[39m'\u001b[39;49m\u001b[39mBytesIO\u001b[39;49m\u001b[39m'\u001b[39;49m, euler\u001b[39m=\u001b[39;49meuler,\n\u001b[0;32m     90\u001b[0m             outputbuffer\u001b[39m=\u001b[39;49mexprbuffer, extra_preamble\u001b[39m=\u001b[39;49mextra_preamble,\n\u001b[0;32m     91\u001b[0m             dvioptions\u001b[39m=\u001b[39;49mdvioptions, fontsize\u001b[39m=\u001b[39;49mfontsize)\n\u001b[0;32m     92\u001b[0m \u001b[39mexcept\u001b[39;00m \u001b[39mException\u001b[39;00m \u001b[39mas\u001b[39;00m e:\n\u001b[0;32m     93\u001b[0m     \u001b[39m# IPython swallows exceptions\u001b[39;00m\n\u001b[0;32m     94\u001b[0m     debug(\u001b[39m\"\u001b[39m\u001b[39mpng printing:\u001b[39m\u001b[39m\"\u001b[39m, \u001b[39m\"\u001b[39m\u001b[39m_preview_wrapper exception raised:\u001b[39m\u001b[39m\"\u001b[39m,\n\u001b[0;32m     95\u001b[0m           \u001b[39mrepr\u001b[39m(e))\n",
      "File \u001b[1;32mc:\\Users\\Erick\\AppData\\Local\\Programs\\Python\\Python311\\Lib\\site-packages\\sympy\\printing\\preview.py:311\u001b[0m, in \u001b[0;36mpreview\u001b[1;34m(expr, output, viewer, euler, packages, filename, outputbuffer, preamble, dvioptions, outputTexFile, extra_preamble, fontsize, **latex_settings)\u001b[0m\n\u001b[0;32m    308\u001b[0m     \u001b[39mraise\u001b[39;00m \u001b[39mRuntimeError\u001b[39;00m(\u001b[39m\"\u001b[39m\u001b[39mlatex program is not installed\u001b[39m\u001b[39m\"\u001b[39m)\n\u001b[0;32m    310\u001b[0m \u001b[39mtry\u001b[39;00m:\n\u001b[1;32m--> 311\u001b[0m     _check_output_no_window(\n\u001b[0;32m    312\u001b[0m         [\u001b[39m'\u001b[39;49m\u001b[39mlatex\u001b[39;49m\u001b[39m'\u001b[39;49m, \u001b[39m'\u001b[39;49m\u001b[39m-halt-on-error\u001b[39;49m\u001b[39m'\u001b[39;49m, \u001b[39m'\u001b[39;49m\u001b[39m-interaction=nonstopmode\u001b[39;49m\u001b[39m'\u001b[39;49m,\n\u001b[0;32m    313\u001b[0m          \u001b[39m'\u001b[39;49m\u001b[39mtexput.tex\u001b[39;49m\u001b[39m'\u001b[39;49m],\n\u001b[0;32m    314\u001b[0m         cwd\u001b[39m=\u001b[39;49mworkdir,\n\u001b[0;32m    315\u001b[0m         stderr\u001b[39m=\u001b[39;49mSTDOUT)\n\u001b[0;32m    316\u001b[0m \u001b[39mexcept\u001b[39;00m CalledProcessError \u001b[39mas\u001b[39;00m e:\n\u001b[0;32m    317\u001b[0m     \u001b[39mraise\u001b[39;00m \u001b[39mRuntimeError\u001b[39;00m(\n\u001b[0;32m    318\u001b[0m         \u001b[39m\"\u001b[39m\u001b[39m'\u001b[39m\u001b[39mlatex\u001b[39m\u001b[39m'\u001b[39m\u001b[39m exited abnormally with the following output:\u001b[39m\u001b[39m\\n\u001b[39;00m\u001b[39m%s\u001b[39;00m\u001b[39m\"\u001b[39m \u001b[39m%\u001b[39m\n\u001b[0;32m    319\u001b[0m         e\u001b[39m.\u001b[39moutput)\n",
      "File \u001b[1;32mc:\\Users\\Erick\\AppData\\Local\\Programs\\Python\\Python311\\Lib\\site-packages\\sympy\\printing\\preview.py:25\u001b[0m, in \u001b[0;36m_check_output_no_window\u001b[1;34m(*args, **kwargs)\u001b[0m\n\u001b[0;32m     23\u001b[0m \u001b[39melse\u001b[39;00m:\n\u001b[0;32m     24\u001b[0m     creation_flag \u001b[39m=\u001b[39m \u001b[39m0\u001b[39m \u001b[39m# Default value\u001b[39;00m\n\u001b[1;32m---> 25\u001b[0m \u001b[39mreturn\u001b[39;00m check_output(\u001b[39m*\u001b[39;49margs, creationflags\u001b[39m=\u001b[39;49mcreation_flag, \u001b[39m*\u001b[39;49m\u001b[39m*\u001b[39;49mkwargs)\n",
      "File \u001b[1;32mc:\\Users\\Erick\\AppData\\Local\\Programs\\Python\\Python311\\Lib\\subprocess.py:465\u001b[0m, in \u001b[0;36mcheck_output\u001b[1;34m(timeout, *popenargs, **kwargs)\u001b[0m\n\u001b[0;32m    462\u001b[0m         empty \u001b[39m=\u001b[39m \u001b[39mb\u001b[39m\u001b[39m'\u001b[39m\u001b[39m'\u001b[39m\n\u001b[0;32m    463\u001b[0m     kwargs[\u001b[39m'\u001b[39m\u001b[39minput\u001b[39m\u001b[39m'\u001b[39m] \u001b[39m=\u001b[39m empty\n\u001b[1;32m--> 465\u001b[0m \u001b[39mreturn\u001b[39;00m run(\u001b[39m*\u001b[39;49mpopenargs, stdout\u001b[39m=\u001b[39;49mPIPE, timeout\u001b[39m=\u001b[39;49mtimeout, check\u001b[39m=\u001b[39;49m\u001b[39mTrue\u001b[39;49;00m,\n\u001b[0;32m    466\u001b[0m            \u001b[39m*\u001b[39;49m\u001b[39m*\u001b[39;49mkwargs)\u001b[39m.\u001b[39mstdout\n",
      "File \u001b[1;32mc:\\Users\\Erick\\AppData\\Local\\Programs\\Python\\Python311\\Lib\\subprocess.py:548\u001b[0m, in \u001b[0;36mrun\u001b[1;34m(input, capture_output, timeout, check, *popenargs, **kwargs)\u001b[0m\n\u001b[0;32m    546\u001b[0m \u001b[39mwith\u001b[39;00m Popen(\u001b[39m*\u001b[39mpopenargs, \u001b[39m*\u001b[39m\u001b[39m*\u001b[39mkwargs) \u001b[39mas\u001b[39;00m process:\n\u001b[0;32m    547\u001b[0m     \u001b[39mtry\u001b[39;00m:\n\u001b[1;32m--> 548\u001b[0m         stdout, stderr \u001b[39m=\u001b[39m process\u001b[39m.\u001b[39;49mcommunicate(\u001b[39minput\u001b[39;49m, timeout\u001b[39m=\u001b[39;49mtimeout)\n\u001b[0;32m    549\u001b[0m     \u001b[39mexcept\u001b[39;00m TimeoutExpired \u001b[39mas\u001b[39;00m exc:\n\u001b[0;32m    550\u001b[0m         process\u001b[39m.\u001b[39mkill()\n",
      "File \u001b[1;32mc:\\Users\\Erick\\AppData\\Local\\Programs\\Python\\Python311\\Lib\\subprocess.py:1192\u001b[0m, in \u001b[0;36mPopen.communicate\u001b[1;34m(self, input, timeout)\u001b[0m\n\u001b[0;32m   1190\u001b[0m     \u001b[39mself\u001b[39m\u001b[39m.\u001b[39m_stdin_write(\u001b[39minput\u001b[39m)\n\u001b[0;32m   1191\u001b[0m \u001b[39melif\u001b[39;00m \u001b[39mself\u001b[39m\u001b[39m.\u001b[39mstdout:\n\u001b[1;32m-> 1192\u001b[0m     stdout \u001b[39m=\u001b[39m \u001b[39mself\u001b[39m\u001b[39m.\u001b[39mstdout\u001b[39m.\u001b[39mread()\n\u001b[0;32m   1193\u001b[0m     \u001b[39mself\u001b[39m\u001b[39m.\u001b[39mstdout\u001b[39m.\u001b[39mclose()\n\u001b[0;32m   1194\u001b[0m \u001b[39melif\u001b[39;00m \u001b[39mself\u001b[39m\u001b[39m.\u001b[39mstderr:\n",
      "\u001b[1;31mKeyboardInterrupt\u001b[0m: "
     ]
    }
   ],
   "source": [
    "LAMB = P.T@K_til@P # Calcula a matriz LAMBDA, que deve ser igual à matriz diagonal contendo os autovalores\n",
    "\n",
    "Matrix(LAMB.round(4))"
   ]
  },
  {
   "attachments": {},
   "cell_type": "markdown",
   "metadata": {},
   "source": [
    "### Transformações de coordenadas das condições iniciais: $$[X_0], [V_0] ~~\\rightarrow~~ [R_o], [\\dot{R_0}]$$"
   ]
  },
  {
   "attachments": {},
   "cell_type": "markdown",
   "metadata": {},
   "source": [
    "##### $$\\text{Matriz de posição }[X_0] \\rightarrow [R_0]:$$"
   ]
  },
  {
   "cell_type": "code",
   "execution_count": null,
   "metadata": {},
   "outputs": [],
   "source": [
    "R0 = np.linalg.inv(S)@X0 # Conversão de coordenadas para posição\n",
    "\n",
    "Matrix(R0.round(4))"
   ]
  },
  {
   "attachments": {},
   "cell_type": "markdown",
   "metadata": {},
   "source": [
    "##### $$\\text{Matriz de velocidade }[V_0] \\rightarrow [\\dot{R_0}]:$$"
   ]
  },
  {
   "cell_type": "code",
   "execution_count": null,
   "metadata": {},
   "outputs": [],
   "source": [
    "RD0 = np.linalg.inv(S)@V0 # Conversão de coordenadas para velocidade\n",
    "\n",
    "Matrix(RD0.round(4))"
   ]
  },
  {
   "attachments": {},
   "cell_type": "markdown",
   "metadata": {},
   "source": [
    "### Obter soluções modais desacopladas do tipo: $$r_i(t) = A_isen(\\omega_it + \\phi_i)$$"
   ]
  },
  {
   "attachments": {},
   "cell_type": "markdown",
   "metadata": {},
   "source": [
    "### $$\\text{Cálculo de } A_i = \\frac{\\sqrt{\\omega_i^2r_{0_i}^2+\\dot{r_0}_i^2}}{\\omega_i}:$$"
   ]
  },
  {
   "cell_type": "code",
   "execution_count": null,
   "metadata": {},
   "outputs": [],
   "source": [
    "A = (np.sqrt((np.power(omega_n, 2)*np.power(R0, 2))+np.power(RD0, 2))/omega_n) #Cálculo da matriz de amplitudes\n",
    "\n",
    "Matrix(A.round(4))"
   ]
  },
  {
   "attachments": {},
   "cell_type": "markdown",
   "metadata": {},
   "source": [
    "### $$\\text{Cálculo de } \\phi_i = tan^{-1}\\left( \\frac{\\omega_ir_{o_i}}{\\dot{r_0}_i} \\right):$$"
   ]
  },
  {
   "cell_type": "code",
   "execution_count": null,
   "metadata": {},
   "outputs": [],
   "source": [
    "ph = np.arctan((omega_n*R0)/RD0) # Cálculo da matriz de fases, em radianos\n",
    "\n",
    "PHI = []\n",
    "\n",
    "for i in ph: #Ajuste para evitar erros de aproximação do ponto flutuante\n",
    "    PHI.append(nsimplify(round((i/np.pi), 4)*pi))\n",
    "\n",
    "Matrix(PHI)"
   ]
  },
  {
   "attachments": {},
   "cell_type": "markdown",
   "metadata": {},
   "source": [
    "### Montando as expressões:"
   ]
  },
  {
   "cell_type": "code",
   "execution_count": null,
   "metadata": {},
   "outputs": [],
   "source": [
    "# Definição da forma geral da solução:\n",
    "a = Symbol('A')\n",
    "omg = Symbol('\\omega')\n",
    "phi = Symbol('\\phi')\n",
    "t = Symbol('t')\n",
    "rt = a*sin(omg*t + phi)\n",
    "\n",
    "# Substituição das respectivas constantes em suas iterações:\n",
    "RT = []\n",
    "for i in range(len(omega_n)):\n",
    "    ri = rt.subs([(a, round(A[i], 4)), (omg, round(omega_n[i], 4)), (phi, PHI[i])])\n",
    "    RT.append(trigsimp(ri)) # Simplificação trigonométrica\n",
    "\n",
    "Matrix(RT)"
   ]
  },
  {
   "cell_type": "code",
   "execution_count": null,
   "metadata": {},
   "outputs": [],
   "source": [
    "time = np.arange(0, 100, .1) # Criando vetor de tempo\n",
    "\n",
    "# Criando matriz de posição em função do tempo:\n",
    "R = []\n",
    "for i in range(len(RT)):\n",
    "    R.append([])\n",
    "    for j in time:\n",
    "        R[i].append(RT[i].subs(t, j))\n",
    "\n",
    "# Plotando os gráficos:\n",
    "plt.rcParams['figure.figsize'] = (12, 5)\n",
    "plt.figure(1)\n",
    "for i in range(len(R)):\n",
    "    plt.plot(time, R[i], color[i], label=f'$r_{i}(t)$')\n",
    "plt.ylabel('r')\n",
    "plt.legend()\n",
    "plt.xlabel('Tempo [s]')\n",
    "plt.title('')\n",
    "plt.grid()\n",
    "plt.show()"
   ]
  },
  {
   "attachments": {},
   "cell_type": "markdown",
   "metadata": {},
   "source": [
    "### Retornando ao domínio físico:"
   ]
  },
  {
   "cell_type": "code",
   "execution_count": null,
   "metadata": {},
   "outputs": [],
   "source": [
    "XT = arredNUM(Matrix(S@RT))\n",
    "\n",
    "Matrix(XT)"
   ]
  },
  {
   "attachments": {},
   "cell_type": "markdown",
   "metadata": {},
   "source": [
    "### Resposta temporal:"
   ]
  },
  {
   "cell_type": "code",
   "execution_count": null,
   "metadata": {},
   "outputs": [],
   "source": [
    "# Criando matriz de posição em função do tempo:\n",
    "X = []\n",
    "for i in range(len(XT)):\n",
    "    X.append([])\n",
    "    for j in time:\n",
    "        X[i].append(XT[i].subs(t, j))\n",
    "\n",
    "# Plotando os gráficos:\n",
    "for i in range(len(X)):\n",
    "    plt.rcParams['figure.figsize'] = (12, 5)\n",
    "    plt.figure(i+2)\n",
    "    plt.plot(time, X[i], color[i], label='$x(t)$')\n",
    "    plt.ylabel('x [m]')\n",
    "    #plt.legend()\n",
    "    plt.xlabel('Tempo [s]')\n",
    "    plt.title('')\n",
    "    plt.grid()\n",
    "    plt.show()\n"
   ]
  },
  {
   "cell_type": "code",
   "execution_count": null,
   "metadata": {},
   "outputs": [],
   "source": [
    "plt.rcParams['figure.figsize'] = (12, 5)\n",
    "plt.figure(5)\n",
    "for i in range(len(X)):\n",
    "    plt.plot(time, X[i], color[i], label='$x_1(t)$')\n",
    "plt.ylabel('x [m]')\n",
    "plt.legend()\n",
    "plt.xlabel('Tempo [s]')\n",
    "plt.title('')\n",
    "plt.grid()\n",
    "plt.show()"
   ]
  },
  {
   "attachments": {},
   "cell_type": "markdown",
   "metadata": {},
   "source": [
    "### Frequências naturais em Hertz:"
   ]
  },
  {
   "cell_type": "code",
   "execution_count": null,
   "metadata": {},
   "outputs": [],
   "source": [
    "for i in range(len(omega_n)):\n",
    "    print(f'f{i+1} = {round((omega_n[i]/(2*np.pi)), 4)} Hz')"
   ]
  }
 ],
 "metadata": {
  "kernelspec": {
   "display_name": "Python 3",
   "language": "python",
   "name": "python3"
  },
  "language_info": {
   "codemirror_mode": {
    "name": "ipython",
    "version": 3
   },
   "file_extension": ".py",
   "mimetype": "text/x-python",
   "name": "python",
   "nbconvert_exporter": "python",
   "pygments_lexer": "ipython3",
   "version": "3.11.0"
  },
  "orig_nbformat": 4
 },
 "nbformat": 4,
 "nbformat_minor": 2
}
