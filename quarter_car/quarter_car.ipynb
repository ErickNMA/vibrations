{
 "cells": [
  {
   "attachments": {},
   "cell_type": "markdown",
   "metadata": {},
   "source": [
    "<h1 align='center'> Análise Vibracional de um Modelo Quarter Car </h1>"
   ]
  },
  {
   "cell_type": "code",
   "execution_count": null,
   "metadata": {},
   "outputs": [],
   "source": [
    "#Importando bibliotecas:\n",
    "import numpy as np\n",
    "from sympy import *\n",
    "from sympy.integrals.heurisch import heurisch\n",
    "import warnings\n",
    "import matplotlib.pyplot as plt\n",
    "\n",
    "#Cores dos gráficos:\n",
    "color = ['red', 'green', 'blue', 'cyan', 'orange', 'm', 'yellow', 'purple', 'black', 'pink']\n",
    "\n",
    "#Exibição dos gráficos em no notebook:\n",
    "%matplotlib inline\n",
    "\n",
    "'''\n",
    "#Exibição dos gráficos em janela externa:\n",
    "%matplotlib qt\n",
    "plt.rcParams['lines.linewidth'] = 3\n",
    "plt.rcParams['font.size'] = 20\n",
    "'''\n",
    "\n",
    "# Inicializações importantes:\n",
    "warnings.filterwarnings(\"ignore\")\n",
    "init_printing()\n",
    "\n",
    "# Função de arredondar elemento da matriz:\n",
    "def arredNUM(matrix):\n",
    "    for a in preorder_traversal(matrix):\n",
    "        if isinstance(a, Float):\n",
    "            matrix = matrix.subs(a, round(a, 4))\n",
    "    return matrix"
   ]
  },
  {
   "attachments": {},
   "cell_type": "markdown",
   "metadata": {},
   "source": [
    "<div align=\"center\">\n",
    "    <img src=\"images/qcmodel.png\">\n",
    "</div>\n",
    "\n",
    "<h5 align='right'> (Jazar, 2017) - 3rd ed </h5>"
   ]
  },
  {
   "attachments": {},
   "cell_type": "markdown",
   "metadata": {},
   "source": [
    "$$[M]\\ddot{x} - [C]\\dot{x} + [K]x = [F]$$\n",
    "\n",
    "<h5 align='right'> Jazar - Eq. (11.46) </h5>"
   ]
  },
  {
   "attachments": {},
   "cell_type": "markdown",
   "metadata": {},
   "source": [
    "### Parâmetros do sistema:"
   ]
  },
  {
   "cell_type": "code",
   "execution_count": null,
   "metadata": {},
   "outputs": [],
   "source": [
    "# Unidades no S.I [Kg, N/m, (N*s)/m]:\n",
    "# GDL não suspenso:\n",
    "mu = 75\n",
    "ku = 193000\n",
    "\n",
    "# GDL suspenso:\n",
    "ms = 375\n",
    "ks = 35000\n",
    "cs = 1800"
   ]
  },
  {
   "attachments": {},
   "cell_type": "markdown",
   "metadata": {},
   "source": [
    "### Excitação externa por perfil de pista:"
   ]
  },
  {
   "attachments": {},
   "cell_type": "markdown",
   "metadata": {},
   "source": [
    "##### Entrada Harmônica:"
   ]
  },
  {
   "cell_type": "code",
   "execution_count": null,
   "metadata": {},
   "outputs": [],
   "source": [
    "\n",
    "\n",
    "\n",
    "#Tempo de amostragem:\n",
    "ts = 1e-2 \n",
    "\n",
    "#Tempo de simulação:\n",
    "tf = 50\n",
    "\n",
    "# Velocidade do carro em Km/h:\n",
    "v_car = 18 \n",
    "\n",
    "# Amplitude em mm:\n",
    "amplitude = 250\n",
    "\n",
    "# Espaçamento em m:\n",
    "esp = 100\n",
    "\n",
    "# Offset em mm:\n",
    "offset = 0\n",
    "\n",
    "# Função de entrada de deslocamento, em mm:\n",
    "x = Symbol('x')\n",
    "freq = round(((v_car*2*np.pi)/(3.6*esp)), 4)\n",
    "print(freq)\n",
    "G = Symbol('\\omega') # Algum bug na heurística impede a resolução com qualquer valor de frequência (será substituído mais adiante no código)\n",
    "entrada = (((amplitude*sin(x*G))+offset)*1e-3)\n",
    "\n",
    "#Criação do vetor de tempo:\n",
    "tfa = 500\n",
    "if(tf > tfa):\n",
    "    tfa = tf\n",
    "time = np.arange(0, tfa, ts)\n",
    "\n",
    "y = lambdify(x, entrada.subs(G, freq), 'numpy')(time) #visualização do perfil\n",
    "\n",
    "entrada"
   ]
  },
  {
   "attachments": {},
   "cell_type": "markdown",
   "metadata": {},
   "source": [
    "##### Dados empíricos:"
   ]
  },
  {
   "cell_type": "code",
   "execution_count": null,
   "metadata": {},
   "outputs": [],
   "source": [
    "\n",
    "\n",
    "'''\n",
    "# Leitura do arquivo:\n",
    "ts = 1e-2\n",
    "arq = open('data.txt', 'r')\n",
    "g = []\n",
    "for linha in arq:\n",
    "    linha = arq.readline()\n",
    "    if(linha != ''):\n",
    "        g.append(float(linha))\n",
    "arq.close()\n",
    "def actopos(dados):\n",
    "    v_ant = 0\n",
    "    current_t = [0]\n",
    "    current_pos = [0]\n",
    "    for i in range(len(dados)):\n",
    "        current_pos.append(round((current_pos[i]+(v_ant*ts)+(dados[i]*(ts**2))), 4))\n",
    "        current_t.append(ts*(i+1))\n",
    "    return current_t, current_pos\n",
    "time, y = actopos(np.multiply(g, (9.8067*1e3)))\n",
    "tf = np.max(time)\n",
    "'''\n",
    "\n",
    "#INCOMLPETO! - Tem que encontrar uma forma de ajustar uma função que atenda sinais senoidais, como soma de senos e cossenos a partir de uma amostra....\n",
    "\n"
   ]
  },
  {
   "attachments": {},
   "cell_type": "markdown",
   "metadata": {},
   "source": [
    "##### Plot da superfície:"
   ]
  },
  {
   "cell_type": "code",
   "execution_count": null,
   "metadata": {},
   "outputs": [],
   "source": [
    "'''\n",
    "\n",
    "# Plotando os gráficos:\n",
    "plt.rcParams['figure.figsize'] = (12, 5)\n",
    "plt.figure(-1)\n",
    "plt.plot((0, tf), (0, 0), 'gray', linestyle='dashed')\n",
    "plt.plot(time, (y*1e3), 'k')\n",
    "plt.ylabel('$y(t)~~[mm]$')\n",
    "plt.xlabel('$Tempo~~[s]$')\n",
    "plt.xlim(0, tf)\n",
    "plt.show()\n",
    "'''"
   ]
  },
  {
   "attachments": {},
   "cell_type": "markdown",
   "metadata": {},
   "source": [
    "### Definição das matrizes (Lagrange) e condições iniciais:"
   ]
  },
  {
   "attachments": {},
   "cell_type": "markdown",
   "metadata": {},
   "source": [
    "##### Massa:"
   ]
  },
  {
   "cell_type": "code",
   "execution_count": null,
   "metadata": {},
   "outputs": [],
   "source": [
    "# Fator de correção para cálculos:\n",
    "fc = 1e-3\n",
    "\n",
    "# Matriz das massas (Kg):\n",
    "M = np.array([\n",
    "    [mu, 0,],\n",
    "    [0, ms]\n",
    "], dtype=float)*fc\n",
    "\n",
    "# Matriz de rigidez (N/m):\n",
    "K = np.array([\n",
    "    [(ks+ku), -ks],\n",
    "    [-ks, ks]\n",
    "], dtype=float)*fc\n",
    "\n",
    "# Matriz de amortecimento (N*s/m):\n",
    "C = np.array([\n",
    "    [cs, -cs],\n",
    "    [-cs, cs]\n",
    "], dtype=float)*fc\n",
    "\n",
    "# Matriz de F(x) (transposta):\n",
    "F = np.array([(ku*entrada), 0]).T*fc\n",
    "\n",
    "# Matriz de posições iniciais (transposta):\n",
    "X0 = np.array([0, 0], dtype=float).T\n",
    "\n",
    "# Matriz de velocidades iniciais (transposta):\n",
    "V0 = np.array([0, 0], dtype=float).T\n",
    "\n",
    "Matrix(F)"
   ]
  },
  {
   "attachments": {},
   "cell_type": "markdown",
   "metadata": {},
   "source": [
    "### $$\\text{Obtenção de } [M]^{-1/2}:$$"
   ]
  },
  {
   "cell_type": "code",
   "execution_count": null,
   "metadata": {},
   "outputs": [],
   "source": [
    "MM = np.power(M, -1/2) # Inverso da raíz quadrada\n",
    "\n",
    "MM[MM == np.inf] = 0 # Transforma os elementos infinitos em zero\n",
    "\n",
    "Matrix(MM.round(4))"
   ]
  },
  {
   "attachments": {},
   "cell_type": "markdown",
   "metadata": {},
   "source": [
    "### $$ \\text{Cálculo da matriz } \\tilde{[K]} = [M^{-1/2}][K][M^{-1/2}]:$$"
   ]
  },
  {
   "cell_type": "code",
   "execution_count": null,
   "metadata": {},
   "outputs": [],
   "source": [
    "K_til = MM@K@MM # Cálculo da matriz K_til\n",
    "\n",
    "Matrix(K_til.round(4))"
   ]
  },
  {
   "attachments": {},
   "cell_type": "markdown",
   "metadata": {},
   "source": [
    "### $$ \\text{Cálculo da matriz } \\tilde{[C]} = [M^{-1/2}][C][M^{-1/2}]:$$"
   ]
  },
  {
   "cell_type": "code",
   "execution_count": null,
   "metadata": {},
   "outputs": [],
   "source": [
    "try:\n",
    "    C_til = MM@C@MM # Cálculo da matriz C_til\n",
    "except:\n",
    "    C_til = np.zeros((len(M), len(M)))\n",
    "\n",
    "Matrix(C_til.round(4))"
   ]
  },
  {
   "attachments": {},
   "cell_type": "markdown",
   "metadata": {},
   "source": [
    "### $$\\text{Obtendo os autovalores (} \\lambda \\text{) e autovetores normalizados (} P \\text{) de }\\tilde{[K]}:$$"
   ]
  },
  {
   "cell_type": "code",
   "execution_count": null,
   "metadata": {},
   "outputs": [],
   "source": [
    "lamb, P = np.linalg.eig(K_til) # Obtenção dos autovalores e autovetores normalizados"
   ]
  },
  {
   "attachments": {},
   "cell_type": "markdown",
   "metadata": {},
   "source": [
    "##### $$\\text{Matriz de autovalores }[\\lambda]:$$"
   ]
  },
  {
   "cell_type": "code",
   "execution_count": null,
   "metadata": {},
   "outputs": [],
   "source": [
    "Matrix(lamb.round(4))"
   ]
  },
  {
   "attachments": {},
   "cell_type": "markdown",
   "metadata": {},
   "source": [
    "##### $$\\text{Matriz de autovetores normalizados }[P]:$$"
   ]
  },
  {
   "cell_type": "code",
   "execution_count": null,
   "metadata": {},
   "outputs": [],
   "source": [
    "Matrix(P.round(4))"
   ]
  },
  {
   "attachments": {},
   "cell_type": "markdown",
   "metadata": {},
   "source": [
    "### Cálculo das frequências naturais: $$[\\omega_n] = \\left[ \\sqrt{\\lambda} \\right]$$"
   ]
  },
  {
   "cell_type": "code",
   "execution_count": null,
   "metadata": {},
   "outputs": [],
   "source": [
    "omega_n = np.sqrt(lamb) # Calcula a matriz de freqências naturais, em rad/s\n",
    "\n",
    "Matrix(omega_n.round(4))"
   ]
  },
  {
   "attachments": {},
   "cell_type": "markdown",
   "metadata": {},
   "source": [
    "### Mode Shapes: $$[u_i] = [M^{-1/2}][P_i]$$"
   ]
  },
  {
   "cell_type": "code",
   "execution_count": null,
   "metadata": {},
   "outputs": [],
   "source": [
    "U = (MM@P) # Modos de vibrar: cada linha é um GDL e cada coluna representa um modo de vibrar\n",
    "\n",
    "Matrix(U.round(4))"
   ]
  },
  {
   "cell_type": "code",
   "execution_count": null,
   "metadata": {},
   "outputs": [],
   "source": [
    "horizontal = False # Define o sentido de variação dos GDL's\n",
    "\n",
    "# Plotando os gráficos:\n",
    "plt.rcParams['figure.figsize'] = (12, 10)\n",
    "plt.figure(0)\n",
    "\n",
    "space = (np.max(np.abs(U))*2.5)\n",
    "\n",
    "padding = []\n",
    "for i in range(len(U)+1):\n",
    "    padding.append(space*i)\n",
    "\n",
    "vib = []\n",
    "for i in range(len(U)):\n",
    "    vib.append([(space*(i+1))])\n",
    "\n",
    "for i in range(len(vib)):\n",
    "    vib[i] = np.concatenate((vib[i], (vib[i][0]+U.T[i])))\n",
    "\n",
    "if(horizontal):\n",
    "    for i in range(len(U)):\n",
    "        plt.plot(vib[i], padding, 'k')\n",
    "        plt.plot((vib[i][0], vib[i][0]), (0, (space*len(U))), 'gray', linestyle='dashed')\n",
    "    plt.xticks(padding[1:], range(1, len(U)+1))\n",
    "    labels = []\n",
    "    for i in range(1, len(U)+1):\n",
    "        labels.append(f'$x_{i}$')\n",
    "    plt.yticks(padding[1:], labels)\n",
    "else:\n",
    "    for i in range(len(U)):\n",
    "        plt.plot(padding, vib[i], 'k')\n",
    "        plt.plot((0, (space*len(U))), (vib[i][0], vib[i][0]), 'gray', linestyle='dashed')\n",
    "    plt.yticks(padding[1:], range(1, len(U)+1))\n",
    "    labels = ['$x_u$', '$x_s$']\n",
    "    plt.xticks(padding[1:], labels)\n",
    "        \n",
    "plt.title('')\n",
    "plt.show()"
   ]
  },
  {
   "attachments": {},
   "cell_type": "markdown",
   "metadata": {},
   "source": [
    "### $$\\text{Cálculo da matriz } [S] = [M^{-1/2}][P]$$"
   ]
  },
  {
   "cell_type": "code",
   "execution_count": null,
   "metadata": {},
   "outputs": [],
   "source": [
    "S = MM@P # Cálcula a matriz S\n",
    "\n",
    "Matrix(S.round(4))"
   ]
  },
  {
   "attachments": {},
   "cell_type": "markdown",
   "metadata": {},
   "source": [
    "### $$\\text{Cálculo da matriz } [\\Lambda] = [P^T][\\tilde{K}][P]$$"
   ]
  },
  {
   "cell_type": "code",
   "execution_count": null,
   "metadata": {},
   "outputs": [],
   "source": [
    "LAMB = P.T@K_til@P # Calcula a matriz LAMBDA, que deve ser igual à matriz diagonal contendo os autovalores\n",
    "\n",
    "Matrix(LAMB.round(4))"
   ]
  },
  {
   "attachments": {},
   "cell_type": "markdown",
   "metadata": {},
   "source": [
    "### $$\\text{Cálculo da matriz } [\\Gamma] = [P^T][\\tilde{C}][P]$$"
   ]
  },
  {
   "cell_type": "code",
   "execution_count": null,
   "metadata": {},
   "outputs": [],
   "source": [
    "GAM = P.T@C_til@P # Calcula a matriz GAMMA, que deve ser igual à matriz diagonal contendo os coeficientes de amortecimento em r -> 2*zeta*omega\n",
    "\n",
    "Matrix(GAM.round(4))"
   ]
  },
  {
   "attachments": {},
   "cell_type": "markdown",
   "metadata": {},
   "source": [
    "### $$\\text{Determinando os coeficientes de amortecimento } \\zeta_i:$$"
   ]
  },
  {
   "cell_type": "code",
   "execution_count": null,
   "metadata": {},
   "outputs": [],
   "source": [
    "try:\n",
    "    Matrix(Z.round(4))\n",
    "except:\n",
    "    Z = np.zeros(len(M))\n",
    "    for i in range(len(omega_n)):\n",
    "        Z[i] = (GAM[i][i]/(2*np.sqrt(LAMB[i][i])))\n",
    "Matrix(Z.round(4))"
   ]
  },
  {
   "attachments": {},
   "cell_type": "markdown",
   "metadata": {},
   "source": [
    "### Cálculo das frequências amortecidas: $$[\\omega_d] = \\left[ \\omega_n\\sqrt{1-\\zeta^2} \\right]$$"
   ]
  },
  {
   "cell_type": "code",
   "execution_count": null,
   "metadata": {},
   "outputs": [],
   "source": [
    "omega_d = omega_n*np.sqrt(1-np.power(Z, 2)) # Calcula a matriz de freqências amortecidas, em rad/s\n",
    "\n",
    "Matrix(omega_d.round(4))"
   ]
  },
  {
   "attachments": {},
   "cell_type": "markdown",
   "metadata": {},
   "source": [
    "### $$\\text{Cálculo da matriz } [\\Pi] = [P^T][M^{-1/2}][F]$$"
   ]
  },
  {
   "cell_type": "code",
   "execution_count": null,
   "metadata": {},
   "outputs": [],
   "source": [
    "PI = Matrix(P.T@MM@F) # Calcula a matriz PI, que deve ser igual à matriz coluna, contendo as componentes da força aplicada, distribuida nos GDL's\n",
    "\n",
    "Matrix(arredNUM(PI))"
   ]
  },
  {
   "attachments": {},
   "cell_type": "markdown",
   "metadata": {},
   "source": [
    "### Transformações de coordenadas das condições iniciais: $$[X_0], [V_0] ~~\\rightarrow~~ [R_o], [\\dot{R_0}]$$"
   ]
  },
  {
   "attachments": {},
   "cell_type": "markdown",
   "metadata": {},
   "source": [
    "##### $$\\text{Matriz de posição }[X_0] \\rightarrow [R_0]:$$"
   ]
  },
  {
   "cell_type": "code",
   "execution_count": null,
   "metadata": {},
   "outputs": [],
   "source": [
    "R0 = np.linalg.inv(S)@X0 # Conversão de coordenadas para posição\n",
    "\n",
    "Matrix(R0.round(4))"
   ]
  },
  {
   "attachments": {},
   "cell_type": "markdown",
   "metadata": {},
   "source": [
    "##### $$\\text{Matriz de velocidade }[V_0] \\rightarrow [\\dot{R_0}]:$$"
   ]
  },
  {
   "cell_type": "code",
   "execution_count": null,
   "metadata": {},
   "outputs": [],
   "source": [
    "RD0 = np.linalg.inv(S)@V0 # Conversão de coordenadas para velocidade\n",
    "\n",
    "Matrix(RD0.round(4))"
   ]
  },
  {
   "attachments": {},
   "cell_type": "markdown",
   "metadata": {},
   "source": [
    "### Obter soluções modais desacopladas do tipo: $$r_i(t) = A_ie^{-\\zeta_i\\omega_it}sen(\\omega_{d_i}t+\\phi_i)+\\frac{1}{\\omega_{d_i}}e^{-\\zeta_i\\omega_it}\\int_0^t \\left( f_i(\\tau)e^{\\zeta_i\\omega_i\\tau}sen(\\omega_{d_i}(t-\\tau)) \\right)d\\tau$$"
   ]
  },
  {
   "attachments": {},
   "cell_type": "markdown",
   "metadata": {},
   "source": [
    "### $$\\text{Cálculo de } A_i = \\sqrt{\\frac{(r_{0_i}\\omega_{d_i})^2+(\\dot{r_{0_i}}+\\zeta_i\\omega_ir_{0_i})^2}{\\omega_{d_i}^2}}:$$"
   ]
  },
  {
   "cell_type": "code",
   "execution_count": null,
   "metadata": {},
   "outputs": [],
   "source": [
    "A = np.sqrt((np.power((R0*omega_n), 2)+np.power((RD0+(Z*omega_n*R0)), 2))/np.power(omega_d, 2)) #Cálculo da matriz de amplitudes\n",
    "\n",
    "Matrix(A.round(4))"
   ]
  },
  {
   "attachments": {},
   "cell_type": "markdown",
   "metadata": {},
   "source": [
    "### $$\\text{Cálculo de } \\phi_i = tan^{-1}\\left( \\frac{r_{o_i}\\omega_{d_i}}{\\dot{r_0}_i+\\zeta_i\\omega_ir_{0_i}} \\right):$$"
   ]
  },
  {
   "cell_type": "code",
   "execution_count": null,
   "metadata": {},
   "outputs": [],
   "source": [
    "ph = np.arctan((R0*omega_n)/(RD0+(Z*omega_n*R0))) # Cálculo da matriz de fases, em radianos\n",
    "\n",
    "PHI = []\n",
    "\n",
    "for i in range(len(ph)): #Ajuste para evitar erros de aproximação do ponto flutuante e indefinições de atan():\n",
    "    if(RD0[i]+(Z[i]*omega_n[i]*R0[i])):\n",
    "        if((ph[i]/np.pi) in (0.25, 0.5, 0.75, 1.0, 1.25, 1.5, 1.75, 2.0)):\n",
    "            PHI.append(nsimplify(round((ph[i]/np.pi), 4)*pi))\n",
    "        else:\n",
    "            PHI.append(round(ph[i], 4))\n",
    "    elif(R0[i]*omega_n[i]):\n",
    "        PHI.append(pi/2)\n",
    "    else:\n",
    "        PHI.append(0)\n",
    "\n",
    "Matrix(PHI)"
   ]
  },
  {
   "attachments": {},
   "cell_type": "markdown",
   "metadata": {},
   "source": [
    "### Montando as expressões:"
   ]
  },
  {
   "cell_type": "code",
   "execution_count": null,
   "metadata": {},
   "outputs": [],
   "source": [
    "# Definição da forma geral da solução:\n",
    "a = Symbol('A')\n",
    "omgn = Symbol('\\omega_n')\n",
    "omgd = Symbol('\\omega_d')\n",
    "phi = Symbol('\\phi')\n",
    "f = Function('f')(x)\n",
    "z = Symbol('\\zeta')\n",
    "t = Symbol('t')\n",
    "\n",
    "# Resposta amortecida:\n",
    "damped = (a*exp(-z*omgn*t)*sin((omgd*t)+phi))\n",
    "\n",
    "# Método Heurístico para resolução da integral indefinida e teorema fundamental do cálculo:\n",
    "def itg(fun, a, b):\n",
    "    expression = heurisch(fun, x)\n",
    "    return simplify(expression.subs(x, b) - expression.subs(x, a))\n",
    "\n",
    "# Resposta forçada:\n",
    "def forced(function=None):\n",
    "    if(function==None):\n",
    "        return ((1/omgd)*exp(-z*omgn*t)*integrate((f*exp(z*omgn*x)*sin(omgd*t-omgd*x)), (x, 0, t)))\n",
    "    else:\n",
    "        return ((1/omgd)*exp(-z*omgn*t)*itg((function*exp(z*omgn*x)*sin(omgd*t-omgd*x)), 0, t))\n",
    "    \n",
    "(damped+forced())"
   ]
  },
  {
   "cell_type": "code",
   "execution_count": null,
   "metadata": {},
   "outputs": [],
   "source": [
    "# Substituição das respectivas constantes em suas iterações:\n",
    "RT = []\n",
    "for i in range(len(omega_n)):\n",
    "    ri = (damped+forced(PI[i])).subs([(a, A[i]), (omgn, omega_n[i]), (phi, PHI[i]), (omgd, omega_d[i]), (z, Z[i])]).doit()\n",
    "    RT.append(trigsimp(arredNUM(ri))) # Simplificação trigonométrica\n",
    "\n",
    "#RT = trigsimp(arredNUM(Matrix(RT).subs(G, freq))) # Correção de bug no método heurístico\n",
    "\n",
    "RT = arredNUM(simplify(trigsimp(Matrix(RT).subs(G, freq))))\n",
    "\n",
    "Matrix(RT)"
   ]
  },
  {
   "attachments": {},
   "cell_type": "markdown",
   "metadata": {},
   "source": [
    "### Tempos de acomodação (critério 2%): $$ST = \\frac{4}{\\zeta\\omega_n}$$"
   ]
  },
  {
   "cell_type": "code",
   "execution_count": null,
   "metadata": {},
   "outputs": [],
   "source": [
    "ultim_time = 0\n",
    "for i in range(len(omega_n)):\n",
    "    if(Z[i]):\n",
    "        current = (4/(Z[i]*omega_n[i]))\n",
    "        if(current > ultim_time):\n",
    "            ultim_time = np.ceil(current*1.5)\n",
    "        print(f'ST{i+1} = {round(current, 2)} s')\n",
    "    else:\n",
    "        print(f'ST{i+1} = {np.Infinity}')"
   ]
  },
  {
   "attachments": {},
   "cell_type": "markdown",
   "metadata": {},
   "source": [
    "### Respostas desacopladas:"
   ]
  },
  {
   "cell_type": "code",
   "execution_count": null,
   "metadata": {},
   "outputs": [],
   "source": [
    "# Criando matriz de posição em função do tempo:\n",
    "R = []\n",
    "for i in RT:\n",
    "    fx = lambdify(t, i, 'numpy')\n",
    "    R.append(fx(time))\n",
    "\n",
    "# Plotando os gráficos:\n",
    "plt.rcParams['figure.figsize'] = (12, 5)\n",
    "plt.figure(1)\n",
    "labels = ['$r_u$', '$r_s$']\n",
    "for i in range(len(R)):\n",
    "    plt.plot(time, (R[i]*1e3), color[i%len(color)], label=labels[i])\n",
    "plt.ylabel('r')\n",
    "plt.legend()\n",
    "plt.xlabel('Tempo [s]')\n",
    "plt.title('')\n",
    "plt.xlim(0, tf)\n",
    "plt.grid()\n",
    "plt.show()"
   ]
  },
  {
   "attachments": {},
   "cell_type": "markdown",
   "metadata": {},
   "source": [
    "### Retornando ao domínio físico:"
   ]
  },
  {
   "cell_type": "code",
   "execution_count": null,
   "metadata": {},
   "outputs": [],
   "source": [
    "XT = arredNUM(trigsimp(Matrix(S@RT)))\n",
    "\n",
    "Matrix(XT)"
   ]
  },
  {
   "attachments": {},
   "cell_type": "markdown",
   "metadata": {},
   "source": [
    "### Resposta temporal:"
   ]
  },
  {
   "cell_type": "code",
   "execution_count": null,
   "metadata": {},
   "outputs": [],
   "source": [
    "# Criando matriz de posição em função do tempo:\n",
    "X = []\n",
    "for i in XT:\n",
    "    fx = lambdify(t, i, 'numpy')\n",
    "    X.append(fx(time))\n",
    "\n",
    "# Plotando os gráficos:\n",
    "plt.rcParams['figure.figsize'] = (12, 5)\n",
    "plt.figure(2)\n",
    "plt.suptitle('')\n",
    "plt.subplots(len(X), sharex=True)\n",
    "labels = ['$x_u(t)~~[mm]$', '$x_s(t)~~[mm]$']\n",
    "for i in range(len(X)):\n",
    "    plt.subplot(len(X), 1, (i+1))\n",
    "    plt.plot(time, (X[i]*1e3), color[(i+len(omega_n))%len(color)])\n",
    "    plt.ylabel(labels[i])\n",
    "    #plt.legend()\n",
    "    plt.grid()\n",
    "plt.xlim(0, tf)\n",
    "plt.xlabel('Tempo [s]')\n",
    "plt.show()\n"
   ]
  },
  {
   "cell_type": "code",
   "execution_count": null,
   "metadata": {},
   "outputs": [],
   "source": [
    "plt.rcParams['figure.figsize'] = (12, 5)\n",
    "plt.figure(len(omega_n)+2)\n",
    "labels = ['$x_u(t)$', '$x_s(t)$']\n",
    "for i in range(len(X)):\n",
    "    plt.plot(time, (X[i]*1e3), color[(i+(1*len(omega_n)))%len(color)], label=labels[i])\n",
    "plt.ylabel('x [mm]')\n",
    "plt.legend()\n",
    "plt.xlabel('Tempo [s]')\n",
    "plt.title('')\n",
    "plt.xlim(0, tf)\n",
    "plt.grid()\n",
    "plt.show()"
   ]
  },
  {
   "attachments": {},
   "cell_type": "markdown",
   "metadata": {},
   "source": [
    "### Steady State:"
   ]
  },
  {
   "cell_type": "code",
   "execution_count": null,
   "metadata": {},
   "outputs": [],
   "source": [
    "XSS = XT\n",
    "for a in preorder_traversal(XSS):\n",
    "    if isinstance(a, type(exp(t))):\n",
    "        XSS = XSS.subs(a, 0)\n",
    "\n",
    "Matrix(XSS)"
   ]
  },
  {
   "cell_type": "code",
   "execution_count": null,
   "metadata": {},
   "outputs": [],
   "source": [
    "# Criando matriz de posição em função do tempo:\n",
    "\n",
    "def const_function(time, cte):\n",
    "    return ((time*0)+cte)\n",
    "\n",
    "XSST = []\n",
    "for i in XSS:\n",
    "    fx = lambdify(t, i, 'numpy')\n",
    "    css = fx(tf+time)\n",
    "    if(isinstance(css, int)):\n",
    "        for a in preorder_traversal(i):\n",
    "            XSST.append(const_function(tf+time, a))\n",
    "    else:\n",
    "        XSST.append(css)\n",
    "\n",
    "# Plotando os gráficos:\n",
    "plt.rcParams['figure.figsize'] = (12, 5)\n",
    "plt.figure(3)\n",
    "labels = ['$Xss_u(t)$', '$Xss_s(t)$']\n",
    "for i in range(len(XSST)):\n",
    "    plt.plot((tf+time), (XSST[i]*1e3), color[(i+(2*len(omega_n)))%len(color)], label=labels[i])\n",
    "plt.ylabel('X [mm]')\n",
    "plt.legend()\n",
    "plt.xlabel('Tempo [s]')\n",
    "plt.title('')\n",
    "plt.xlim(tf, (2*tf))\n",
    "plt.grid()\n",
    "plt.show()"
   ]
  },
  {
   "attachments": {},
   "cell_type": "markdown",
   "metadata": {},
   "source": [
    "### Frequências naturais, em Hertz:"
   ]
  },
  {
   "cell_type": "code",
   "execution_count": null,
   "metadata": {},
   "outputs": [],
   "source": [
    "for i in range(len(omega_n)):\n",
    "    print(f'f{i+1} = {round((omega_n[i]/(2*np.pi)), 4)} Hz')"
   ]
  },
  {
   "attachments": {},
   "cell_type": "markdown",
   "metadata": {},
   "source": [
    "### Resposta em frequência:"
   ]
  },
  {
   "cell_type": "code",
   "execution_count": null,
   "metadata": {},
   "outputs": [],
   "source": [
    "# Preparando as transformadas de Fourier:\n",
    "def fft(sig, ts):\n",
    "    fft = np.fft.fft(sig)\n",
    "\n",
    "    N = len(sig)\n",
    "\n",
    "    g = np.fft.fftfreq(N, ts)\n",
    "\n",
    "    freqs = (g[:(N//2)]*(2*np.pi))\n",
    "    amplitudes = (np.abs(fft)[:(N//2)]*(1/N))\n",
    "    phase = np.rad2deg(np.angle(fft)[:(N//2)])\n",
    "\n",
    "    return freqs, amplitudes, phase\n",
    "\n",
    "ffts = []\n",
    "for i in X:\n",
    "    ffts.append(fft(i, ts))\n",
    "\n",
    "\n",
    "# Frequências de ressonância\n",
    "freqres = []\n",
    "amp = []\n",
    "for i in ffts:\n",
    "    j = np.where(i[1]==np.max(i[1]))\n",
    "    freqres.append(i[0][j][0])\n",
    "    amp.append(i[1][j][0])\n",
    "\n",
    "#Limite do eixo X, para ajuste:\n",
    "xl = (np.max(freqres)/np.pi)\n",
    "\n",
    "# Pltotando: Amplitude em função de frequência\n",
    "plt.rcParams['figure.figsize'] = (12, 5)\n",
    "plt.figure(4)\n",
    "plt.semilogy()\n",
    "labels = ['$x_u(j\\omega)$', '$x_s(j\\omega)$']\n",
    "for i in range(len(ffts)):\n",
    "    plt.plot((ffts[i][0]/(2*np.pi)), ffts[i][1], color[(i+(3*len(omega_n)))%len(color)], label=labels[i])\n",
    "    plt.plot([(freqres[i]/(2*np.pi)), (freqres[i]/(2*np.pi))], [0, amp[i]], 'gray', linestyle='dashed', label=f'$fr_{i+1}$')\n",
    "plt.ylabel('Magnitude [dB]')\n",
    "plt.legend()\n",
    "plt.xlabel('Frequência [Hz]')\n",
    "plt.title('')\n",
    "plt.xlim(0, xl)\n",
    "plt.grid()\n",
    "plt.show()"
   ]
  },
  {
   "attachments": {},
   "cell_type": "markdown",
   "metadata": {},
   "source": [
    "### Frequências de ressonância, em Hertz:"
   ]
  },
  {
   "cell_type": "code",
   "execution_count": null,
   "metadata": {},
   "outputs": [],
   "source": [
    "for i in range(len(freqres)):\n",
    "    print(f'f{i+1} = {(freqres[i]/(2*np.pi)).round(4)} Hz')"
   ]
  }
 ],
 "metadata": {
  "kernelspec": {
   "display_name": "Python 3",
   "language": "python",
   "name": "python3"
  },
  "language_info": {
   "codemirror_mode": {
    "name": "ipython",
    "version": 3
   },
   "file_extension": ".py",
   "mimetype": "text/x-python",
   "name": "python",
   "nbconvert_exporter": "python",
   "pygments_lexer": "ipython3",
   "version": "3.10.6"
  },
  "orig_nbformat": 4
 },
 "nbformat": 4,
 "nbformat_minor": 2
}
